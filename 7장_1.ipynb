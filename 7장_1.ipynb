{
  "nbformat": 4,
  "nbformat_minor": 0,
  "metadata": {
    "colab": {
      "name": "7장_1.ipynb",
      "version": "0.3.2",
      "provenance": [],
      "include_colab_link": true
    },
    "kernelspec": {
      "name": "python2",
      "display_name": "Python 2"
    }
  },
  "cells": [
    {
      "cell_type": "markdown",
      "metadata": {
        "id": "view-in-github",
        "colab_type": "text"
      },
      "source": [
        "[View in Colaboratory](https://colab.research.google.com/github/sabumjung/DL-with-TensorFlow/blob/DL-with-TensorFlow/7%EC%9E%A5_1.ipynb)"
      ]
    },
    {
      "metadata": {
        "id": "wkdQBJRt6xQP",
        "colab_type": "code",
        "colab": {
          "base_uri": "https://localhost:8080/",
          "height": 35
        },
        "outputId": "7918ad18-e0c8-429f-9e16-1bb93d7a25e9"
      },
      "cell_type": "code",
      "source": [
        "import numpy as np\n",
        "import tensorflow as tf\n",
        "import datetime\n",
        "\n",
        "log_device_placement = True\n",
        "n = 10\n",
        "\n",
        "A = np.random.rand(10000, 10000).astype('float32')\n",
        "B = np.random.rand(10000, 10000).astype('float32')\n",
        "\n",
        "c1 = []\n",
        "\n",
        "def matpow(M, n):\n",
        "    if n < 1: #Abstract cases where n < 1\n",
        "        return M\n",
        "    else:\n",
        "        return tf.matmul(M, matpow(M, n-1))\n",
        "\n",
        "#FIRST GPU\n",
        "with tf.device('/gpu:0'):\n",
        "    a = tf.placeholder(tf.float32, [10000, 10000])\n",
        "    c1.append(matpow(a, n))\n",
        "    \n",
        "#SECOND GPU\n",
        "with tf.device('/gpu:1'):\n",
        "    b = tf.placeholder(tf.float32, [10000, 10000])\n",
        "    c1.append(matpow(b, n))\n",
        "\n",
        "\n",
        "with tf.device('/cpu:0'):\n",
        "    sum = tf.add_n(c1) \n",
        "    print(sum)\n",
        "\n",
        "t1_1 = datetime.datetime.now()\n",
        "with tf.Session(config=tf.ConfigProto\\\n",
        "                 (allow_soft_placement=True,\\\n",
        "                log_device_placement=log_device_placement))\\\n",
        "                  as sess:\n",
        "     sess.run(sum, {a:A, b:B})\n",
        "t2_1 = datetime.datetime.now()"
      ],
      "execution_count": 0,
      "outputs": [
        {
          "output_type": "stream",
          "text": [
            "Tensor(\"AddN:0\", shape=(10000, 10000), dtype=float32, device=/device:CPU:0)\n"
          ],
          "name": "stdout"
        }
      ]
    },
    {
      "metadata": {
        "id": "TuVsfvqj6zQw",
        "colab_type": "code",
        "colab": {}
      },
      "cell_type": "code",
      "source": [
        ""
      ],
      "execution_count": 0,
      "outputs": []
    }
  ]
}