{
  "nbformat": 4,
  "nbformat_minor": 0,
  "metadata": {
    "colab": {
      "name": "TF_심층신경망",
      "version": "0.3.2",
      "provenance": [],
      "private_outputs": true,
      "collapsed_sections": [],
      "include_colab_link": true
    },
    "kernelspec": {
      "name": "python2",
      "display_name": "Python 2"
    },
    "accelerator": "GPU"
  },
  "cells": [
    {
      "cell_type": "markdown",
      "metadata": {
        "id": "view-in-github",
        "colab_type": "text"
      },
      "source": [
        "<a href=\"https://colab.research.google.com/github/sabumjung/DL-with-TensorFlow/blob/DL-with-TensorFlow/TF_%EC%8B%AC%EC%B8%B5%EC%8B%A0%EA%B2%BD%EB%A7%9D.ipynb\" target=\"_parent\"><img src=\"https://colab.research.google.com/assets/colab-badge.svg\" alt=\"Open In Colab\"/></a>"
      ]
    },
    {
      "metadata": {
        "id": "Cvvlxai5JGSr",
        "colab_type": "code",
        "colab": {}
      },
      "cell_type": "code",
      "source": [
        "import tensorflow as tf\n",
        "import numpy as np"
      ],
      "execution_count": 0,
      "outputs": []
    },
    {
      "metadata": {
        "id": "XAOzxXBrJuyq",
        "colab_type": "code",
        "colab": {}
      },
      "cell_type": "code",
      "source": [
        "# Data\n",
        "x_data=np.array(\n",
        "  [[0,0], [1,0], [1,1], [0,0], [0,0], [0,1]])\n",
        "\n",
        "y_data=np.array([\n",
        "    [1,0,0],\n",
        "    [0,1,0],\n",
        "    [0,0,1],\n",
        "    [1,0,0],\n",
        "    [1,0,0],\n",
        "    [0,0,1]\n",
        "])"
      ],
      "execution_count": 0,
      "outputs": []
    },
    {
      "metadata": {
        "id": "1kTHy1znKJzm",
        "colab_type": "code",
        "colab": {}
      },
      "cell_type": "code",
      "source": [
        "# define placeholder\n",
        "X=tf.placeholder(tf.float32)\n",
        "Y=tf.placeholder(tf.float32)\n",
        "\n",
        "# define weight\n",
        "# 2행 3열의 램덤값 생성(-1.0 ~ 1.0) 분포\n",
        "W1=tf.Variable(tf.random_uniform([2,10], -1., 1.))\n",
        "W2=tf.Variable(tf.random_uniform([10,3], -1., 1.))\n",
        "\n",
        "# define constant\n",
        "b1=tf.Variable(tf.zeros([10]))\n",
        "b2=tf.Variable(tf.zeros([3]))"
      ],
      "execution_count": 0,
      "outputs": []
    },
    {
      "metadata": {
        "id": "wGmomXZRLbhZ",
        "colab_type": "code",
        "colab": {}
      },
      "cell_type": "code",
      "source": [
        "# 신경망 모델링\n",
        "L1=tf.add(tf.matmul(X,W1),b1)\n",
        "L1=tf.nn.relu(L1)\n",
        "model=tf.add(tf.matmul(L1, W2), b2)"
      ],
      "execution_count": 0,
      "outputs": []
    },
    {
      "metadata": {
        "id": "nLzIS5FKMCHc",
        "colab_type": "code",
        "colab": {}
      },
      "cell_type": "code",
      "source": [
        "# cross-entropy\n",
        "cost=tf.reduce_mean(\n",
        "    tf.nn.softmax_cross_entropy_with_logits(labels=Y, logits=model))"
      ],
      "execution_count": 0,
      "outputs": []
    },
    {
      "metadata": {
        "id": "VkjUwf4GLzTl",
        "colab_type": "code",
        "colab": {}
      },
      "cell_type": "code",
      "source": [
        "optimizer=tf.train.AdamOptimizer(learning_rate=0.01)\n",
        "# optimizer=tf.train.GradientDescentOptimizer(learning_rate=0.01)\n",
        "train_op=optimizer.minimize(cost)"
      ],
      "execution_count": 0,
      "outputs": []
    },
    {
      "metadata": {
        "id": "7nnLHgOXL9mX",
        "colab_type": "code",
        "colab": {}
      },
      "cell_type": "code",
      "source": [
        "init=tf.global_variables_initializer()\n",
        "sess=tf.Session()\n",
        "sess.run(init)    "
      ],
      "execution_count": 0,
      "outputs": []
    },
    {
      "metadata": {
        "id": "YOCMPH06Ps5K",
        "colab_type": "code",
        "colab": {}
      },
      "cell_type": "code",
      "source": [
        "for step in range(100):\n",
        "  sess.run(train_op, feed_dict={X:x_data, Y:y_data})\n",
        "\n",
        "  if (step+1) % 10==0:\n",
        "    print(step+1, sess.run(cost, feed_dict={X:x_data, Y:y_data}))"
      ],
      "execution_count": 0,
      "outputs": []
    },
    {
      "metadata": {
        "id": "yb6uoeqFaETj",
        "colab_type": "code",
        "colab": {}
      },
      "cell_type": "code",
      "source": [
        "a=sess.run(model, feed_dict={X:x_data})\n",
        "print(a)\n",
        "# axis=0이면 열기준, axis=1이면 행기준\n",
        "print(sess.run(tf.argmax(a, axis=1)))"
      ],
      "execution_count": 0,
      "outputs": []
    },
    {
      "metadata": {
        "id": "Ptdk5fM6OPUr",
        "colab_type": "code",
        "colab": {}
      },
      "cell_type": "code",
      "source": [
        "prediction=tf.argmax(model, axis=1)\n",
        "target=tf.argmax(Y, axis=1)"
      ],
      "execution_count": 0,
      "outputs": []
    },
    {
      "metadata": {
        "id": "0FrzFqjUOxgN",
        "colab_type": "code",
        "colab": {}
      },
      "cell_type": "code",
      "source": [
        "print('predict_val:', sess.run(prediction, feed_dict={X:x_data}))"
      ],
      "execution_count": 0,
      "outputs": []
    },
    {
      "metadata": {
        "id": "YE2H2QnuO0ZB",
        "colab_type": "code",
        "colab": {}
      },
      "cell_type": "code",
      "source": [
        "print('real_val:', sess.run(target, feed_dict={Y:y_data}))"
      ],
      "execution_count": 0,
      "outputs": []
    },
    {
      "metadata": {
        "id": "xfy-Y28ZP5jq",
        "colab_type": "code",
        "colab": {}
      },
      "cell_type": "code",
      "source": [
        "is_correct=tf.equal(prediction, target)\n",
        "print(sess.run(is_correct, feed_dict={X:x_data, Y:y_data}))\n",
        "accuracy=tf.reduce_mean(tf.cast(is_correct, tf.float32))\n",
        "print('accuracy: %.2f' % sess.run(accuracy * 100, feed_dict={X:x_data, Y:y_data}))"
      ],
      "execution_count": 0,
      "outputs": []
    },
    {
      "metadata": {
        "id": "CS4_Ws7VQBDB",
        "colab_type": "code",
        "colab": {}
      },
      "cell_type": "code",
      "source": [
        ""
      ],
      "execution_count": 0,
      "outputs": []
    }
  ]
}