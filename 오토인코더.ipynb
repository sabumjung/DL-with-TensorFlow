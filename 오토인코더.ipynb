{
  "nbformat": 4,
  "nbformat_minor": 0,
  "metadata": {
    "colab": {
      "name": "Untitled31.ipynb",
      "version": "0.3.2",
      "provenance": [],
      "include_colab_link": true
    },
    "kernelspec": {
      "name": "python2",
      "display_name": "Python 2"
    }
  },
  "cells": [
    {
      "cell_type": "markdown",
      "metadata": {
        "id": "view-in-github",
        "colab_type": "text"
      },
      "source": [
        "<a href=\"https://colab.research.google.com/github/sabumjung/DL-with-TensorFlow/blob/DL-with-TensorFlow/%EC%98%A4%ED%86%A0%EC%9D%B8%EC%BD%94%EB%8D%94.ipynb\" target=\"_parent\"><img src=\"https://colab.research.google.com/assets/colab-badge.svg\" alt=\"Open In Colab\"/></a>"
      ]
    },
    {
      "metadata": {
        "id": "6fljlWXDbTV9",
        "colab_type": "code",
        "colab": {
          "base_uri": "https://localhost:8080/",
          "height": 608
        },
        "outputId": "8d8b10fc-7f18-4f39-8033-4ae066880951"
      },
      "cell_type": "code",
      "source": [
        "# library 가져오기\n",
        "import tensorflow as tf\n",
        "import numpy as np\n",
        "import matplotlib.pyplot as plt\n",
        "\n",
        "from tensorflow.examples.tutorials.mnist import input_data\n",
        "mnist=input_data.read_data_sets('MNIST_data', one_hot=True)\n",
        "\n",
        "# parameter 설정\n",
        "learning_rate=0.01 \t\t#최적학습률\n",
        "training_epoch=20\t\t#전체데이터를 학습할 총횟수\n",
        "batch_size=100\t\t#미니배치로 한번에 학습할 데이터의 개수\n",
        "n_hidden=256\t\t\t#은닉층의 뉴런개수\n",
        "n_input=28*28\t\t\t#입력값의 크기로 784\n",
        "\n",
        "# model\n",
        "X=tf.placeholder(tf.float32, [None, n_input])\t#플레이스 홀더 설정\n",
        "#인코더 설정\n",
        "W_encode=tf.Variable(tf.random_normal([n_input, n_hidden]))\n",
        "b_encode=tf.Variable(tf.random_normal([n_hidden]))\n",
        "encoder=tf.nn.sigmoid(\n",
        "\t\ttf.add(tf.matmul(X, W_encode), b_encode))\n",
        "#은닉층의 사이즈가 입력층보다 작다. 이러한 특징을 통하여 입력값을 압축하고 노이즈를 제거하면서 입력값의 특징을 찾아낼 수 있다.\n",
        "\n",
        "#디코더 설정\n",
        "W_decode=tf.Variable(tf.random_normal([n_hidden, n_input]))\n",
        "b_decode=tf.Variable(tf.random_normal([n_input]))\n",
        "decoder=tf.nn.sigmoid(\n",
        "\t\ttf.add(tf.matmul(encoder, W_decode), b_decode))\n",
        "\n",
        "#오토인코더의 구조는 다음과 같게된다.\n",
        "\n",
        "\n",
        "# cost\n",
        "# 가중치들을 최적화하기 위한 손실함수를 만들도록 한다.\n",
        "cost=tf.reduce_mean(tf.pow(X - decoder,2))\n",
        "\n",
        "# optimize\n",
        "#RMSPropOptimizer함수를 사용한 최적화 함수를 설정한다.\n",
        "optimizer=tf.train.RMSPropOptimizer(learning_rate).minimize(cost)\n",
        "\n",
        "# train\n",
        "init=tf.global_variables_initializer()\n",
        "sess=tf.Session()\n",
        "sess.run(init)\n",
        "\n",
        "total_batch=int(mnist.train.num_examples / batch_size)\n",
        "\n",
        "for epoch in range(training_epoch):\n",
        "  total_cost=0\n",
        "  for i in range(total_batch):\n",
        "    batch_xs, batch_ys=mnist.train.next_batch(batch_size)\n",
        "    _, cost_val=sess.run([optimizer, cost],feed_dict={X:batch_xs})\n",
        "    total_cost+=cost_val\n",
        "  print('Epoch:','%04d' % (epoch+1), 'Avg. cost=','{:.4f}'.format(total_cost/total_batch))\n",
        "print('최적화 완료!')\n",
        "\n",
        "\n",
        "# 결과확인\n",
        "sample_size=10\n",
        "samples=sess.run(decoder,\n",
        "\tfeed_dict={X:mnist.test.images[:sample_size]})\n",
        "\n",
        "fig, ax=plt.subplots(2, sample_size, figsize=(sample_size, 2))\n",
        "\n",
        "for i in range(sample_size):\n",
        "\tax[0][i].set_axis_off()\n",
        "\tax[1][i].set_axis_off()\n",
        "\tax[0][i].imshow(np.reshape(mnist.test.images[i], (28, 28)))\n",
        "\tax[1][i].imshow(np.reshape(samples[i], (28, 28)))\n",
        "plt.show()\n"
      ],
      "execution_count": 13,
      "outputs": [
        {
          "output_type": "stream",
          "text": [
            "Extracting MNIST_data/train-images-idx3-ubyte.gz\n",
            "Extracting MNIST_data/train-labels-idx1-ubyte.gz\n",
            "Extracting MNIST_data/t10k-images-idx3-ubyte.gz\n",
            "Extracting MNIST_data/t10k-labels-idx1-ubyte.gz\n",
            "('Epoch:', '0001', 'Avg. cost=', '0.1959')\n",
            "('Epoch:', '0002', 'Avg. cost=', '0.0599')\n",
            "('Epoch:', '0003', 'Avg. cost=', '0.0498')\n",
            "('Epoch:', '0004', 'Avg. cost=', '0.0446')\n",
            "('Epoch:', '0005', 'Avg. cost=', '0.0419')\n",
            "('Epoch:', '0006', 'Avg. cost=', '0.0392')\n",
            "('Epoch:', '0007', 'Avg. cost=', '0.0379')\n",
            "('Epoch:', '0008', 'Avg. cost=', '0.0367')\n",
            "('Epoch:', '0009', 'Avg. cost=', '0.0363')\n",
            "('Epoch:', '0010', 'Avg. cost=', '0.0359')\n",
            "('Epoch:', '0011', 'Avg. cost=', '0.0352')\n",
            "('Epoch:', '0012', 'Avg. cost=', '0.0344')\n",
            "('Epoch:', '0013', 'Avg. cost=', '0.0341')\n",
            "('Epoch:', '0014', 'Avg. cost=', '0.0339')\n",
            "('Epoch:', '0015', 'Avg. cost=', '0.0336')\n",
            "('Epoch:', '0016', 'Avg. cost=', '0.0333')\n",
            "('Epoch:', '0017', 'Avg. cost=', '0.0331')\n",
            "('Epoch:', '0018', 'Avg. cost=', '0.0329')\n",
            "('Epoch:', '0019', 'Avg. cost=', '0.0328')\n",
            "('Epoch:', '0020', 'Avg. cost=', '0.0327')\n",
            "최적화 완료!\n"
          ],
          "name": "stdout"
        },
        {
          "output_type": "display_data",
          "data": {
            "image/png": "[encoded data removed]",
            "text/plain": [
              "<matplotlib.figure.Figure at 0x7f6cfdd00c10>"
            ]
          },
          "metadata": {
            "tags": []
          }
        }
      ]
    },
    {
      "metadata": {
        "id": "DK6pe5F3bVhU",
        "colab_type": "code",
        "colab": {}
      },
      "cell_type": "code",
      "source": [
        ""
      ],
      "execution_count": 0,
      "outputs": []
    }
  ]
}