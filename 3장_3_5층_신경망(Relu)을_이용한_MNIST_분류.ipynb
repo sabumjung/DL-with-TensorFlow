{
  "nbformat": 4,
  "nbformat_minor": 0,
  "metadata": {
    "colab": {
      "name": "3장_3_5층 신경망(Relu)을 이용한_MNIST_분류.ipynb",
      "version": "0.3.2",
      "provenance": [],
      "include_colab_link": true
    },
    "kernelspec": {
      "name": "python2",
      "display_name": "Python 2"
    }
  },
  "cells": [
    {
      "cell_type": "markdown",
      "metadata": {
        "id": "view-in-github",
        "colab_type": "text"
      },
      "source": [
        "[View in Colaboratory](https://colab.research.google.com/github/sabumjung/DL-with-TensorFlow/blob/DL-with-TensorFlow/3%EC%9E%A5_3_5%EC%B8%B5_%EC%8B%A0%EA%B2%BD%EB%A7%9D(Relu)%EC%9D%84_%EC%9D%B4%EC%9A%A9%ED%95%9C_MNIST_%EB%B6%84%EB%A5%98.ipynb)"
      ]
    },
    {
      "metadata": {
        "id": "GVw3AEWzo8ug",
        "colab_type": "code",
        "colab": {}
      },
      "cell_type": "code",
      "source": [
        "import tensorflow as tf\n",
        "from tensorflow.examples.tutorials.mnist import input_data"
      ],
      "execution_count": 0,
      "outputs": []
    },
    {
      "metadata": {
        "id": "MpxW1ZlAo_go",
        "colab_type": "code",
        "colab": {
          "base_uri": "https://localhost:8080/",
          "height": 89
        },
        "outputId": "bd7d995c-4327-40f0-f0de-fc385c2d54b0"
      },
      "cell_type": "code",
      "source": [
        "logs_path = 'log_simple_stats_5_layers_relu_softmax'\n",
        "batch_size = 100\n",
        "training_epochs = 10\n",
        "mnist = input_data.read_data_sets(\"/tmp/data\", one_hot=True)"
      ],
      "execution_count": 3,
      "outputs": [
        {
          "output_type": "stream",
          "text": [
            "Extracting /tmp/data/train-images-idx3-ubyte.gz\n",
            "Extracting /tmp/data/train-labels-idx1-ubyte.gz\n",
            "Extracting /tmp/data/t10k-images-idx3-ubyte.gz\n",
            "Extracting /tmp/data/t10k-labels-idx1-ubyte.gz\n"
          ],
          "name": "stdout"
        }
      ]
    },
    {
      "metadata": {
        "id": "-ttW463CpCwV",
        "colab_type": "code",
        "colab": {}
      },
      "cell_type": "code",
      "source": [
        "X = tf.placeholder(tf.float32, [None, 784])\n",
        "Y_ = tf.placeholder(tf.float32, [None, 10])\n",
        "\n",
        "L = 200\n",
        "M = 100\n",
        "N = 60\n",
        "O = 30"
      ],
      "execution_count": 0,
      "outputs": []
    },
    {
      "metadata": {
        "id": "WwXPFf-fpIWu",
        "colab_type": "code",
        "colab": {}
      },
      "cell_type": "code",
      "source": [
        "W1 = tf.Variable(tf.truncated_normal([784, L], stddev=0.1))\n",
        "B1 = tf.Variable(tf.zeros([L]))\n",
        "W2 = tf.Variable(tf.truncated_normal([L, M], stddev=0.1))\n",
        "B2 = tf.Variable(tf.zeros([M]))\n",
        "W3 = tf.Variable(tf.truncated_normal([M, N], stddev=0.1))\n",
        "B3 = tf.Variable(tf.zeros([N]))\n",
        "W4 = tf.Variable(tf.truncated_normal([N, O], stddev=0.1))\n",
        "B4 = tf.Variable(tf.zeros([O]))\n",
        "W5 = tf.Variable(tf.truncated_normal([O, 10], stddev=0.1))\n",
        "B5 = tf.Variable(tf.zeros([10]))\n",
        "\n",
        "XX = tf.reshape(X, [-1, 784])\n",
        "Y1 = tf.nn.relu(tf.matmul(XX, W1) + B1)\n",
        "Y2 = tf.nn.relu(tf.matmul(Y1, W2) + B2)\n",
        "Y3 = tf.nn.relu(tf.matmul(Y2, W3) + B3)\n",
        "Y4 = tf.nn.relu(tf.matmul(Y3, W4) + B4)\n",
        "Ylogits = tf.matmul(Y4, W5) + B5\n",
        "Y = tf.nn.softmax(Ylogits)"
      ],
      "execution_count": 0,
      "outputs": []
    },
    {
      "metadata": {
        "id": "_aq0t58spMqe",
        "colab_type": "code",
        "colab": {}
      },
      "cell_type": "code",
      "source": [
        "cross_entropy = tf.nn.softmax_cross_entropy_with_logits_v2(logits=Ylogits,\\\n",
        "                                                        labels=Y_)\n",
        "cross_entropy = tf.reduce_mean(cross_entropy)*100\n",
        "\n",
        "correct_prediction = tf.equal(tf.argmax(Y, 1), tf.argmax(Y_, 1))\n",
        "accuracy = tf.reduce_mean(tf.cast(correct_prediction, tf.float32))\n",
        "learning_rate = 0.003\n",
        "train_step = tf.train.AdamOptimizer(learning_rate).minimize(cross_entropy)\n",
        "tf.summary.scalar(\"cost\", cross_entropy)\n",
        "tf.summary.scalar(\"accuracy\", accuracy)\n",
        "summary_op = tf.summary.merge_all()"
      ],
      "execution_count": 0,
      "outputs": []
    },
    {
      "metadata": {
        "id": "gZMpXiK-pVqY",
        "colab_type": "code",
        "colab": {}
      },
      "cell_type": "code",
      "source": [
        "init = tf.global_variables_initializer()\n",
        "sess = tf.Session()\n",
        "sess.run(init)"
      ],
      "execution_count": 0,
      "outputs": []
    },
    {
      "metadata": {
        "id": "Mm29YwNZpavv",
        "colab_type": "code",
        "colab": {
          "base_uri": "https://localhost:8080/",
          "height": 233
        },
        "outputId": "8a2e4b95-ccc9-4bfd-942d-bf70d22688e8"
      },
      "cell_type": "code",
      "source": [
        "with tf.Session() as sess:\n",
        "  sess.run(tf.global_variables_initializer())\n",
        "  writer = tf.summary.FileWriter(logs_path, graph=tf.get_default_graph())\n",
        "  for epoch in range(training_epochs):\n",
        "    batch_count = int(mnist.train.num_examples/batch_size)\n",
        "    for i in range(batch_count):\n",
        "      batch_x, batch_y = mnist.train.next_batch(batch_size)\n",
        "      _, summary = sess.run([train_step, summary_op],\\\n",
        "                            feed_dict={X: batch_x,\\\n",
        "                                       Y_: batch_y})\n",
        "      writer.add_summary(summary,\\\n",
        "                         epoch * batch_count + i)\n",
        "    print(\"Epoch: \", epoch)\n",
        "  print(\"Accuracy: \", accuracy.eval(feed_dict={X: mnist.test.images,\\\n",
        "                                               Y_: mnist.test.labels}))\n",
        "  print(\"done\")"
      ],
      "execution_count": 14,
      "outputs": [
        {
          "output_type": "stream",
          "text": [
            "('Epoch: ', 0)\n",
            "('Epoch: ', 1)\n",
            "('Epoch: ', 2)\n",
            "('Epoch: ', 3)\n",
            "('Epoch: ', 4)\n",
            "('Epoch: ', 5)\n",
            "('Epoch: ', 6)\n",
            "('Epoch: ', 7)\n",
            "('Epoch: ', 8)\n",
            "('Epoch: ', 9)\n",
            "('Accuracy: ', 0.9741)\n",
            "done\n"
          ],
          "name": "stdout"
        }
      ]
    },
    {
      "metadata": {
        "id": "46rX1gPiprqp",
        "colab_type": "code",
        "colab": {}
      },
      "cell_type": "code",
      "source": [
        ""
      ],
      "execution_count": 0,
      "outputs": []
    }
  ]
}