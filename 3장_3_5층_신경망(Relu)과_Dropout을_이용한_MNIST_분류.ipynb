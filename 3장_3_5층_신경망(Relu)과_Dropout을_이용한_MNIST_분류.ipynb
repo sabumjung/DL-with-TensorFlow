{
  "nbformat": 4,
  "nbformat_minor": 0,
  "metadata": {
    "colab": {
      "name": "3장_3_5층 신경망(Relu)과 Dropout을 이용한_MNIST_분류.ipynb",
      "version": "0.3.2",
      "provenance": [],
      "include_colab_link": true
    },
    "kernelspec": {
      "name": "python2",
      "display_name": "Python 2"
    }
  },
  "cells": [
    {
      "cell_type": "markdown",
      "metadata": {
        "id": "view-in-github",
        "colab_type": "text"
      },
      "source": [
        "[View in Colaboratory](https://colab.research.google.com/github/sabumjung/DL-with-TensorFlow/blob/DL-with-TensorFlow/3%EC%9E%A5_3_5%EC%B8%B5_%EC%8B%A0%EA%B2%BD%EB%A7%9D(Relu)%EA%B3%BC_Dropout%EC%9D%84_%EC%9D%B4%EC%9A%A9%ED%95%9C_MNIST_%EB%B6%84%EB%A5%98.ipynb)"
      ]
    },
    {
      "metadata": {
        "id": "fKBrznCXtDdz",
        "colab_type": "code",
        "colab": {}
      },
      "cell_type": "code",
      "source": [
        "from tensorflow.examples.tutorials.mnist import input_data\n",
        "import tensorflow as tf\n",
        "import math"
      ],
      "execution_count": 0,
      "outputs": []
    },
    {
      "metadata": {
        "id": "ZdyqLG-CtOeE",
        "colab_type": "code",
        "colab": {}
      },
      "cell_type": "code",
      "source": [
        "logs_path = 'log_simple_stats_5_lyers_dropout'\n",
        "batch_size = 100\n",
        "learning_rate = 0.5\n",
        "training_epochs = 10"
      ],
      "execution_count": 0,
      "outputs": []
    },
    {
      "metadata": {
        "id": "dobh77CwtPLh",
        "colab_type": "code",
        "colab": {
          "base_uri": "https://localhost:8080/",
          "height": 89
        },
        "outputId": "be214a74-fbf7-48b2-ec1e-e333c6fef735"
      },
      "cell_type": "code",
      "source": [
        "mnist = input_data.read_data_sets(\"/tmp/data\", one_hot=True)\n",
        "\n",
        "X = tf.placeholder(tf.float32, [None, 784])\n",
        "Y_ = tf.placeholder(tf.float32, [None, 10])\n",
        "lr = tf.placeholder(tf.float32)\n",
        "dropout_ratio = tf.placeholder(tf.float32)\n",
        "\n",
        "L = 200\n",
        "M = 100\n",
        "N = 60\n",
        "O = 30"
      ],
      "execution_count": 5,
      "outputs": [
        {
          "output_type": "stream",
          "text": [
            "Extracting /tmp/data/train-images-idx3-ubyte.gz\n",
            "Extracting /tmp/data/train-labels-idx1-ubyte.gz\n",
            "Extracting /tmp/data/t10k-images-idx3-ubyte.gz\n",
            "Extracting /tmp/data/t10k-labels-idx1-ubyte.gz\n"
          ],
          "name": "stdout"
        }
      ]
    },
    {
      "metadata": {
        "id": "UJylnFE1tXF5",
        "colab_type": "code",
        "colab": {}
      },
      "cell_type": "code",
      "source": [
        "W1 = tf.Variable(tf.truncated_normal([784, L], stddev=0.1))\n",
        "B1 = tf.Variable(tf.ones([L])/10)\n",
        "W2 = tf.Variable(tf.truncated_normal([L, M], stddev=0.1))\n",
        "B2 = tf.Variable(tf.ones([M])/10)\n",
        "W3 = tf.Variable(tf.truncated_normal([M, N], stddev=0.1))\n",
        "B3 = tf.Variable(tf.ones([N])/10)\n",
        "W4 = tf.Variable(tf.truncated_normal([N, O], stddev=0.1))\n",
        "B4 = tf.Variable(tf.ones([O])/10)\n",
        "W5 = tf.Variable(tf.truncated_normal([O, 10], stddev=0.1))\n",
        "B5 = tf.Variable(tf.zeros([10]))"
      ],
      "execution_count": 0,
      "outputs": []
    },
    {
      "metadata": {
        "id": "Aq8kwncetbTf",
        "colab_type": "code",
        "colab": {}
      },
      "cell_type": "code",
      "source": [
        "# 각 층에 드롭아웃 처리한 모델\n",
        "XX = tf.reshape(X, [-1, 28*28])\n",
        "\n",
        "Y1 = tf.nn.relu(tf.matmul(XX, W1) + B1)\n",
        "Y1d = tf.nn.dropout(Y1, dropout_ratio)\n",
        "\n",
        "Y2 = tf.nn.relu(tf.matmul(Y1d, W2) + B2)\n",
        "Y2d = tf.nn.dropout(Y2, dropout_ratio)\n",
        "\n",
        "Y3 = tf.nn.relu(tf.matmul(Y2d, W3) + B3)\n",
        "Y3d = tf.nn.dropout(Y3, dropout_ratio)\n",
        "\n",
        "Y4 = tf.nn.relu(tf.matmul(Y3d, W4) + B4)\n",
        "Y4d = tf.nn.dropout(Y4, dropout_ratio)\n",
        "\n",
        "Ylogits = tf.matmul(Y4d, W5) + B5\n",
        "Y = tf.nn.softmax(Ylogits)"
      ],
      "execution_count": 0,
      "outputs": []
    },
    {
      "metadata": {
        "id": "5ppToiYitjqB",
        "colab_type": "code",
        "colab": {}
      },
      "cell_type": "code",
      "source": [
        "cross_entropy = tf.nn.softmax_cross_entropy_with_logits_v2(logits=Ylogits, \\\n",
        "                                                        labels=Y_)\n",
        "\n",
        "cross_entropy = tf.reduce_mean(cross_entropy)*100\n",
        "\n",
        "correct_prediction = tf.equal(tf.argmax(Y, 1), tf.argmax(Y_, 1))\n",
        "accuracy = tf.reduce_mean(tf.cast(correct_prediction, tf.float32))\n",
        "\n",
        "train_step = tf.train.AdamOptimizer(lr).minimize(cross_entropy)\n",
        "\n",
        "tf.summary.scalar(\"cost\", cross_entropy)\n",
        "tf.summary.scalar(\"accuracy\", accuracy)\n",
        "summary_op = tf.summary.merge_all()\n",
        "\n",
        "init = tf.global_variables_initializer()\n",
        "sess = tf.Session()\n",
        "sess.run(init)"
      ],
      "execution_count": 0,
      "outputs": []
    },
    {
      "metadata": {
        "id": "KyMp5XV9tyDl",
        "colab_type": "code",
        "colab": {
          "base_uri": "https://localhost:8080/",
          "height": 557
        },
        "outputId": "0d401873-2f9b-447f-ee29-7b5dc7eda87f"
      },
      "cell_type": "code",
      "source": [
        "with tf.Session() as sess:\n",
        "  sess.run(tf.global_variables_initializer())\n",
        "  writer = tf.summary.FileWriter(logs_path, \\\n",
        "                                 graph=tf.get_default_graph())\n",
        "\n",
        "  for epoch in range(training_epochs):\n",
        "    batch_count = int(mnist.train.num_examples/batch_size)\n",
        "    for i in range(batch_count):\n",
        "      batch_x, batch_y = mnist.train.next_batch(batch_size)\n",
        "      max_learning_rate = 0.003\n",
        "      min_learning_rate = 0.0001\n",
        "      decay_speed = 2000\n",
        "      learning_rate = min_learning_rate + (max_learning_rate - \\\n",
        "                      min_learning_rate) * math.exp(-i/decay_speed)\n",
        "      _, summary = sess.run([train_step, summary_op], {X: batch_x, \\\n",
        "                                                       Y_:batch_y, \\\n",
        "                                                       dropout_ratio: 0.75, \\\n",
        "                                                       lr: learning_rate})\n",
        "         \n",
        "      writer.add_summary(summary, epoch * batch_count + i)\n",
        "    print (\"Epoch: \", epoch)\n",
        "    print (\"Accuracy: \", accuracy.eval\\\n",
        "          (feed_dict={X: mnist.test.images, \\\n",
        "                      Y_: mnist.test.labels, dropout_ratio: 0.75}))\n",
        "    print (\"done\")"
      ],
      "execution_count": 15,
      "outputs": [
        {
          "output_type": "stream",
          "text": [
            "('Epoch: ', 0)\n",
            "('Accuracy: ', 0.9213)\n",
            "done\n",
            "('Epoch: ', 1)\n",
            "('Accuracy: ', 0.945)\n",
            "done\n",
            "('Epoch: ', 2)\n",
            "('Accuracy: ', 0.9524)\n",
            "done\n",
            "('Epoch: ', 3)\n",
            "('Accuracy: ', 0.955)\n",
            "done\n",
            "('Epoch: ', 4)\n",
            "('Accuracy: ', 0.96)\n",
            "done\n",
            "('Epoch: ', 5)\n",
            "('Accuracy: ', 0.9634)\n",
            "done\n",
            "('Epoch: ', 6)\n",
            "('Accuracy: ', 0.9644)\n",
            "done\n",
            "('Epoch: ', 7)\n",
            "('Accuracy: ', 0.9649)\n",
            "done\n",
            "('Epoch: ', 8)\n",
            "('Accuracy: ', 0.9657)\n",
            "done\n",
            "('Epoch: ', 9)\n",
            "('Accuracy: ', 0.9676)\n",
            "done\n"
          ],
          "name": "stdout"
        }
      ]
    },
    {
      "metadata": {
        "id": "0-88tqFtuaV3",
        "colab_type": "code",
        "colab": {}
      },
      "cell_type": "code",
      "source": [
        ""
      ],
      "execution_count": 0,
      "outputs": []
    }
  ]
}