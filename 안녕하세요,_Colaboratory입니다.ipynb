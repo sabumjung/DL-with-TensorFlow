{
  "nbformat": 4,
  "nbformat_minor": 0,
  "metadata": {
    "colab": {
      "name": "안녕하세요, Colaboratory입니다",
      "version": "0.3.2",
      "provenance": [],
      "collapsed_sections": [],
      "include_colab_link": true
    },
    "kernelspec": {
      "display_name": "Python 3",
      "name": "python3"
    },
    "accelerator": "GPU"
  },
  "cells": [
    {
      "cell_type": "markdown",
      "metadata": {
        "id": "view-in-github",
        "colab_type": "text"
      },
      "source": [
        "[View in Colaboratory](https://colab.research.google.com/github/sabumjung/Tensorflow/blob/master/%EC%95%88%EB%85%95%ED%95%98%EC%84%B8%EC%9A%94,_Colaboratory%EC%9E%85%EB%8B%88%EB%8B%A4.ipynb)"
      ]
    },
    {
      "metadata": {
        "id": "1h4GD0LYowp9",
        "colab_type": "text"
      },
      "cell_type": "markdown",
      "source": [
        "**일반적으로 텐서플로는 2가지로 구분할 수 있다.**\n",
        "1. 계산그래프를 만들기\n",
        "    - 훈련에 필요한 계산과 머신러닝 모델을 표현한 계산그래프를 만든다.\n",
        "2. 해당 그래프를 실행하기\n",
        "    - 훈련스텝을 반복평가하고, 모델 파라미터를 점진적으로 개선하기 위해 반복루프를 수행한다."
      ]
    },
    {
      "metadata": {
        "id": "nDCZ1-yrn1X5",
        "colab_type": "code",
        "colab": {}
      },
      "cell_type": "code",
      "source": [
        "#계산그래프 만들기\n",
        "import tensorflow as tf\n",
        "x=tf.Variable(3,name='x')\n",
        "y=tf.Variable(4,name='y')\n",
        "f=x*x*x+y+2"
      ],
      "execution_count": 0,
      "outputs": []
    },
    {
      "metadata": {
        "id": "gs6AwiUYqIdd",
        "colab_type": "text"
      },
      "cell_type": "markdown",
      "source": [
        "세션시작하기로 아래 명령을 사용하지 않는다면 매번 run()을 수행해야 함\n",
        "global_variables_initializer() 함수의 기능\n",
        "- 초기화를 바로 수행하지 않고 \n",
        "- 계산 그래프가 실행될 때 모든 변수를 초기화할 노드를 생성한다."
      ]
    },
    {
      "metadata": {
        "id": "zuDVjhm8pPgs",
        "colab_type": "code",
        "colab": {}
      },
      "cell_type": "code",
      "source": [
        "init=tf.global_variables_initializer()\n",
        "with tf.Session() as sess:\n",
        "  init.run()\n",
        "  result=f.eval()"
      ],
      "execution_count": 0,
      "outputs": []
    },
    {
      "metadata": {
        "id": "vbTXiW3jqSsS",
        "colab_type": "text"
      },
      "cell_type": "markdown",
      "source": [
        "주피터나 파이썬셰에서는 InteractiveSession을 만드면 더욱 편리하다.\n",
        "자동으로 자신을 기본 세션을 지정하기 때문이다."
      ]
    },
    {
      "metadata": {
        "id": "4fGXbg2TocA_",
        "colab_type": "code",
        "colab": {
          "base_uri": "https://localhost:8080/",
          "height": 91
        },
        "outputId": "0cf4d311-2fda-4ba7-dadb-b3a578f469fa"
      },
      "cell_type": "code",
      "source": [
        "sess=tf.InteractiveSession()\n",
        "init.run()\n",
        "result=f.eval()\n",
        "print(result)\n",
        "sess.close()"
      ],
      "execution_count": 0,
      "outputs": [
        {
          "output_type": "stream",
          "text": [
            "33\n"
          ],
          "name": "stdout"
        },
        {
          "output_type": "stream",
          "text": [
            "/usr/local/lib/python3.6/dist-packages/tensorflow/python/client/session.py:1714: UserWarning: An interactive session is already active. This can cause out-of-memory errors in some cases. You must explicitly call `InteractiveSession.close()` to release resources held by the other session(s).\n",
            "  warnings.warn('An interactive session is already active. This can '\n"
          ],
          "name": "stderr"
        }
      ]
    },
    {
      "metadata": {
        "id": "sXW18Fh6q_88",
        "colab_type": "code",
        "colab": {}
      },
      "cell_type": "code",
      "source": [
        "x1=tf.Variable(1)\n",
        "x1.graph is tf.get_default_graph()\n",
        "graph=tf.Graph()\n",
        "with graph.as_default():\n",
        "  x2=tf.Variable(2)"
      ],
      "execution_count": 0,
      "outputs": []
    },
    {
      "metadata": {
        "id": "2TRDteRjraFg",
        "colab_type": "code",
        "colab": {}
      },
      "cell_type": "code",
      "source": [
        "tf.reset_default_graph()"
      ],
      "execution_count": 0,
      "outputs": []
    },
    {
      "metadata": {
        "id": "GL-zq7zhrzTK",
        "colab_type": "text"
      },
      "cell_type": "markdown",
      "source": [
        "주피터에서 실험적인 작업을 하는 동안 같은 명령을 여러번 실행할 수 있다.\n",
        "이렇게 하면 기본 그래프에 중복된 노드가 많이 포함되는 문제가 있다.\n",
        "이를 방지하려면 tf.reset_default_graph()로 그래프를 초기화해준다."
      ]
    },
    {
      "metadata": {
        "id": "V94HePDRrbu7",
        "colab_type": "code",
        "colab": {
          "base_uri": "https://localhost:8080/",
          "height": 35
        },
        "outputId": "edfd3561-00aa-41cb-d307-e60442b6815a"
      },
      "cell_type": "code",
      "source": [
        "x2.graph is tf.get_default_graph()"
      ],
      "execution_count": 0,
      "outputs": [
        {
          "output_type": "execute_result",
          "data": {
            "text/plain": [
              "False"
            ]
          },
          "metadata": {
            "tags": []
          },
          "execution_count": 18
        }
      ]
    },
    {
      "metadata": {
        "id": "GEGnhuUASS7M",
        "colab_type": "text"
      },
      "cell_type": "markdown",
      "source": [
        "**노드값의 생애주기**\n",
        "한 노드를 평가할 때 텐서플로는 해당 노드가 의존하고 있는 다른 노드들을 자동으로 찾아 먼저 평가한다.\n",
        "텐서플로는 자동으로 y가 x에 의존한다는 것과 x가 w에 의존한다는 것을 감지한다.\n",
        "따라서 w평가 -> x평가 -> y평가"
      ]
    },
    {
      "metadata": {
        "id": "QUL9yKLgrd8q",
        "colab_type": "code",
        "colab": {
          "base_uri": "https://localhost:8080/",
          "height": 53
        },
        "outputId": "72bd50a1-4525-429d-aa2a-6c43e37ab577"
      },
      "cell_type": "code",
      "source": [
        "w=tf.constant(3)\n",
        "x=w+2\n",
        "y=x+5\n",
        "z=x*3\n",
        "with tf.Session() as sess:\n",
        "  print(y.eval())\n",
        "  print(z.eval())"
      ],
      "execution_count": 0,
      "outputs": [
        {
          "output_type": "stream",
          "text": [
            "10\n",
            "15\n"
          ],
          "name": "stdout"
        }
      ]
    },
    {
      "metadata": {
        "id": "uMnETDuzS300",
        "colab_type": "text"
      },
      "cell_type": "markdown",
      "source": [
        "이전에 평가한 노드를 재사용하지 않는다는 것이 텐서플로의 방침이다.\n",
        "따라서 위의 코드는 w와 x를 두번 평가한다.\n",
        "이를 방지하기 위해서는 다음과 같은 명령을 실행한다."
      ]
    },
    {
      "metadata": {
        "id": "UZnfEv_ysUFZ",
        "colab_type": "code",
        "colab": {
          "base_uri": "https://localhost:8080/",
          "height": 53
        },
        "outputId": "25bc2494-e39d-4b35-82f6-57c667a9a51e"
      },
      "cell_type": "code",
      "source": [
        "w=tf.constant(3)\n",
        "x=w+2\n",
        "y=x+5\n",
        "z=x*3\n",
        "with tf.Session() as sess:\n",
        "    y_val, z_val=sess.run([y,z])\n",
        "    print(y_val)\n",
        "    print(z_val)"
      ],
      "execution_count": 4,
      "outputs": [
        {
          "output_type": "stream",
          "text": [
            "10\n",
            "15\n"
          ],
          "name": "stdout"
        }
      ]
    },
    {
      "metadata": {
        "id": "hHJiocK7TUI_",
        "colab_type": "code",
        "colab": {}
      },
      "cell_type": "code",
      "source": [
        ""
      ],
      "execution_count": 0,
      "outputs": []
    }
  ]
}