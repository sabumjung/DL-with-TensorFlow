{
  "nbformat": 4,
  "nbformat_minor": 0,
  "metadata": {
    "colab": {
      "name": "3장-1. 소프트맥스를 이용한 MNIST 분류.ipynb",
      "version": "0.3.2",
      "provenance": [],
      "include_colab_link": true
    },
    "kernelspec": {
      "name": "python2",
      "display_name": "Python 2"
    },
    "accelerator": "GPU"
  },
  "cells": [
    {
      "cell_type": "markdown",
      "metadata": {
        "id": "view-in-github",
        "colab_type": "text"
      },
      "source": [
        "[View in Colaboratory](https://colab.research.google.com/github/sabumjung/DL-with-TensorFlow/blob/DL-with-TensorFlow/3%EC%9E%A5_1_%EC%86%8C%ED%94%84%ED%8A%B8%EB%A7%A5%EC%8A%A4%EB%A5%BC_%EC%9D%B4%EC%9A%A9%ED%95%9C_MNIST_%EB%B6%84%EB%A5%98.ipynb)"
      ]
    },
    {
      "metadata": {
        "id": "MXZPH_tOWuGX",
        "colab_type": "code",
        "colab": {}
      },
      "cell_type": "code",
      "source": [
        "import tensorflow as tf\n",
        "from tensorflow.examples.tutorials.mnist import input_data\n",
        "from random import randint\n",
        "import numpy as np"
      ],
      "execution_count": 0,
      "outputs": []
    },
    {
      "metadata": {
        "id": "SXbk5usVXM1e",
        "colab_type": "code",
        "colab": {
          "base_uri": "https://localhost:8080/",
          "height": 89
        },
        "outputId": "eaea5a98-e527-4de0-abb0-9664df954945"
      },
      "cell_type": "code",
      "source": [
        "logs_path = 'log_mnist_softmax'\n",
        "batch_size = 100\n",
        "learning_rate = 0.5\n",
        "training_epochs = 10\n",
        "mnist = input_data.read_data_sets(\"data\", one_hot=True)"
      ],
      "execution_count": 9,
      "outputs": [
        {
          "output_type": "stream",
          "text": [
            "Extracting data/train-images-idx3-ubyte.gz\n",
            "Extracting data/train-labels-idx1-ubyte.gz\n",
            "Extracting data/t10k-images-idx3-ubyte.gz\n",
            "Extracting data/t10k-labels-idx1-ubyte.gz\n"
          ],
          "name": "stdout"
        }
      ]
    },
    {
      "metadata": {
        "id": "7BP537uZaMeE",
        "colab_type": "code",
        "colab": {}
      },
      "cell_type": "code",
      "source": [
        "X = tf.placeholder(tf.float32, [None, 784], name=\"input\")\n",
        "Y_ = tf.placeholder(tf.float32, [None, 10])\n",
        "W = tf.Variable(tf.zeros([784, 10]))\n",
        "b = tf.Variable(tf.zeros([10]))\n",
        "XX = tf.reshape(X, [-1, 784])"
      ],
      "execution_count": 0,
      "outputs": []
    },
    {
      "metadata": {
        "id": "SFpv46S4XSCM",
        "colab_type": "code",
        "colab": {}
      },
      "cell_type": "code",
      "source": [
        "evidence=tf.matmul(XX, W) + b\n",
        "Y = tf.nn.softmax(evidence, name=\"output\")\n",
        "cross_entropy = tf.reduce_mean(tf.nn.softmax_cross_entropy_with_logits_v2(labels=Y_,\\\n",
        "                                                                          logits=Y))\n",
        "correct_prediction = tf.equal(tf.argmax(Y, 1), tf.argmax(Y_, 1))\n",
        "accuracy = tf.reduce_mean(tf.cast(correct_prediction, tf.float32))\n"
      ],
      "execution_count": 0,
      "outputs": []
    },
    {
      "metadata": {
        "id": "5H920skjbo7M",
        "colab_type": "code",
        "colab": {}
      },
      "cell_type": "code",
      "source": [
        "train_step = tf.train.GradientDescentOptimizer(0.005).minimize(cross_entropy)\n",
        "tf.summary.scalar(\"cost\", cross_entropy)\n",
        "tf.summary.scalar(\"accuracy\", accuracy)\n",
        "summary_op = tf.summary.merge_all()"
      ],
      "execution_count": 0,
      "outputs": []
    },
    {
      "metadata": {
        "id": "DGXku7I4bxrs",
        "colab_type": "code",
        "colab": {
          "base_uri": "https://localhost:8080/",
          "height": 1097
        },
        "outputId": "12e5766a-4f1e-4fba-8f8f-590f80f624ec"
      },
      "cell_type": "code",
      "source": [
        "with tf.Session() as sess:\n",
        "  sess.run(tf.global_variables_initializer())\n",
        "  writer = tf.summary.FileWriter(logs_path, graph=tf.get_default_graph())\n",
        "\n",
        "  for epoch in range(training_epochs):\n",
        "    batch_count = int(mnist.train.num_examples/batch_size)\n",
        "    for i in range(batch_count):\n",
        "      batch_x, batch_y = mnist.train.next_batch(batch_size)\n",
        "      _, summary = sess.run([train_step, summary_op],\\\n",
        "                            feed_dict={X: batch_x,\\\n",
        "                                       Y_: batch_y})\n",
        "      writer.add_summary(summary, epoch * batch_count + i)\n",
        "    print(\"Epoch: \", epoch)\n",
        "    print(\"Accuracy: \", accuracy.eval(feed_dict={X: mnist.test.images, \\\n",
        "                                                 Y_: mnist.test.labels}))\n",
        "    print(\"done\")\n",
        "\n",
        "    num = randint(0, mnist.test.images.shape[0])\n",
        "    img = mnist.test.images[num]\n",
        "\n",
        "    classification = sess.run(tf.argmax(Y, 1), feed_dict={X: [img]})\n",
        "    print('Neural Network predicted', classification[0])\n",
        "    print('Real label is:', np.argmax(mnist.test.labels[num]))\n",
        "\n",
        "    saver = tf.train.Saver()\n",
        "    save_path = saver.save(sess, \"data/saved_mnist_cnn.ckpt\")\n",
        "    print(\"Model saved to %s\" % save_path)"
      ],
      "execution_count": 7,
      "outputs": [
        {
          "output_type": "stream",
          "text": [
            "('Epoch: ', 0)\n",
            "('Accuracy: ', 0.4524)\n",
            "done\n",
            "('Neural Network predicted', 0)\n",
            "('Real label is:', 4)\n",
            "Model saved to data/saved_mnist_cnn.ckpt\n",
            "('Epoch: ', 1)\n",
            "('Accuracy: ', 0.5557)\n",
            "done\n",
            "('Neural Network predicted', 1)\n",
            "('Real label is:', 1)\n",
            "Model saved to data/saved_mnist_cnn.ckpt\n",
            "('Epoch: ', 2)\n",
            "('Accuracy: ', 0.5664)\n",
            "done\n",
            "('Neural Network predicted', 7)\n",
            "('Real label is:', 7)\n",
            "Model saved to data/saved_mnist_cnn.ckpt\n",
            "('Epoch: ', 3)\n",
            "('Accuracy: ', 0.6169)\n",
            "done\n",
            "('Neural Network predicted', 7)\n",
            "('Real label is:', 9)\n",
            "Model saved to data/saved_mnist_cnn.ckpt\n",
            "('Epoch: ', 4)\n",
            "('Accuracy: ', 0.6658)\n",
            "done\n",
            "('Neural Network predicted', 4)\n",
            "('Real label is:', 4)\n",
            "Model saved to data/saved_mnist_cnn.ckpt\n",
            "('Epoch: ', 5)\n",
            "('Accuracy: ', 0.7058)\n",
            "done\n",
            "('Neural Network predicted', 7)\n",
            "('Real label is:', 7)\n",
            "Model saved to data/saved_mnist_cnn.ckpt\n",
            "('Epoch: ', 6)\n",
            "('Accuracy: ', 0.7362)\n",
            "done\n",
            "('Neural Network predicted', 2)\n",
            "('Real label is:', 2)\n",
            "Model saved to data/saved_mnist_cnn.ckpt\n",
            "('Epoch: ', 7)\n",
            "('Accuracy: ', 0.7689)\n",
            "done\n",
            "('Neural Network predicted', 2)\n",
            "('Real label is:', 2)\n",
            "Model saved to data/saved_mnist_cnn.ckpt\n",
            "('Epoch: ', 8)\n",
            "('Accuracy: ', 0.7843)\n",
            "done\n",
            "('Neural Network predicted', 6)\n",
            "('Real label is:', 8)\n",
            "Model saved to data/saved_mnist_cnn.ckpt\n",
            "('Epoch: ', 9)\n",
            "('Accuracy: ', 0.7905)\n",
            "done\n",
            "('Neural Network predicted', 4)\n",
            "('Real label is:', 4)\n",
            "Model saved to data/saved_mnist_cnn.ckpt\n"
          ],
          "name": "stdout"
        }
      ]
    },
    {
      "metadata": {
        "id": "damt0yJ3cgBr",
        "colab_type": "code",
        "colab": {
          "base_uri": "https://localhost:8080/",
          "height": 491
        },
        "outputId": "146bf969-805f-43e6-ba42-1ac2e579f885"
      },
      "cell_type": "code",
      "source": [
        "#소프트맥스 소스 로더\n",
        "import matplotlib.pyplot as plt\n",
        "import tensorflow as tf\n",
        "from random import randint\n",
        "from tensorflow.examples.tutorials.mnist import input_data\n",
        "\n",
        "mnist = input_data.read_data_sets('data', one_hot=True)\n",
        "sess = tf.InteractiveSession()\n",
        "new_saver = tf.train.import_meta_graph('data/saved_mnist_cnn.ckpt.meta')\n",
        "new_saver.restore(sess, 'data/saved_mnist_cnn.ckpt')\n",
        "tf.get_default_graph().as_graph_def()\n",
        "\n",
        "x = sess.graph.get_tensor_by_name(\"input:0\")\n",
        "y_conv = sess.graph.get_tensor_by_name(\"output:0\")\n",
        "\n",
        "num = randint(0, mnist.test.images.shape[0])\n",
        "img = mnist.test.images[num]\n",
        "\n",
        "result = sess.run([\"input:0\", y_conv], feed_dict= {x:[img]})\n",
        "print(result[1])\n",
        "print(sess.run(tf.argmax(result[1], 1)))\n",
        "\n",
        "plt.imshow(img.reshape([28, 28]), cmap='Greys')\n",
        "plt.show()"
      ],
      "execution_count": 8,
      "outputs": [
        {
          "output_type": "stream",
          "text": [
            "Extracting data/train-images-idx3-ubyte.gz\n",
            "Extracting data/train-labels-idx1-ubyte.gz\n",
            "Extracting data/t10k-images-idx3-ubyte.gz\n",
            "Extracting data/t10k-labels-idx1-ubyte.gz\n",
            "INFO:tensorflow:Restoring parameters from data/saved_mnist_cnn.ckpt\n",
            "[[9.9172324e-02 4.9020426e-04 2.7239950e-02 5.1930465e-02 1.0689931e-02\n",
            "  5.8908976e-04 1.5019655e-02 1.0467080e-03 7.7547020e-01 1.8351441e-02]]\n",
            "[8]\n"
          ],
          "name": "stdout"
        },
        {
          "output_type": "display_data",
          "data": {
            "image/png": "[encoded data removed]",
            "text/plain": [
              "<matplotlib.figure.Figure at 0x7f79bf7408d0>"
            ]
          },
          "metadata": {
            "tags": []
          }
        }
      ]
    },
    {
      "metadata": {
        "id": "rN0GLxqQg3zV",
        "colab_type": "code",
        "colab": {}
      },
      "cell_type": "code",
      "source": [
        ""
      ],
      "execution_count": 0,
      "outputs": []
    }
  ]
}