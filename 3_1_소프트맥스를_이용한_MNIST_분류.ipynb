{
  "nbformat": 4,
  "nbformat_minor": 0,
  "metadata": {
    "colab": {
      "name": "3-1. 소프트맥스를 이용한 MNIST 분류.ipynb",
      "version": "0.3.2",
      "provenance": [],
      "include_colab_link": true
    },
    "kernelspec": {
      "name": "python2",
      "display_name": "Python 2"
    }
  },
  "cells": [
    {
      "cell_type": "markdown",
      "metadata": {
        "id": "view-in-github",
        "colab_type": "text"
      },
      "source": [
        "[View in Colaboratory](https://colab.research.google.com/github/sabumjung/DL-with-TensorFlow/blob/DL-with-TensorFlow/3_1_%EC%86%8C%ED%94%84%ED%8A%B8%EB%A7%A5%EC%8A%A4%EB%A5%BC_%EC%9D%B4%EC%9A%A9%ED%95%9C_MNIST_%EB%B6%84%EB%A5%98.ipynb)"
      ]
    },
    {
      "metadata": {
        "id": "MXZPH_tOWuGX",
        "colab_type": "code",
        "colab": {}
      },
      "cell_type": "code",
      "source": [
        "#\n",
        "import tensorflow as tf\n",
        "from tensorflow.examples.tutorials.mnist import input_data\n",
        "from random import randint\n",
        "import numpy as np"
      ],
      "execution_count": 0,
      "outputs": []
    },
    {
      "metadata": {
        "id": "SXbk5usVXM1e",
        "colab_type": "code",
        "colab": {
          "base_uri": "https://localhost:8080/",
          "height": 89
        },
        "outputId": "1ed7a9a1-1c87-45e4-9f20-4607dea9afaa"
      },
      "cell_type": "code",
      "source": [
        "logs_path = 'log_mnist_softmax'\n",
        "batch_size = 100\n",
        "learning_rate = 0.5\n",
        "training_epochs = 10\n",
        "mnist = input_data.read_data_sets(\"data\", one_hot=True)"
      ],
      "execution_count": 5,
      "outputs": [
        {
          "output_type": "stream",
          "text": [
            "Extracting data/train-images-idx3-ubyte.gz\n",
            "Extracting data/train-labels-idx1-ubyte.gz\n",
            "Extracting data/t10k-images-idx3-ubyte.gz\n",
            "Extracting data/t10k-labels-idx1-ubyte.gz\n"
          ],
          "name": "stdout"
        }
      ]
    },
    {
      "metadata": {
        "id": "7BP537uZaMeE",
        "colab_type": "code",
        "colab": {}
      },
      "cell_type": "code",
      "source": [
        "X = tf.placeholder(tf.float32, [None, 784], name=\"input\")\n",
        "Y_ = tf.placeholder(tf.float32, [None, 10])\n",
        "W = tf.Variable(tf.zeros([784, 10]))\n",
        "b = tf.Variable(tf.zeros([10]))\n",
        "XX = tf.reshape(X, [-1, 784])"
      ],
      "execution_count": 0,
      "outputs": []
    },
    {
      "metadata": {
        "id": "SFpv46S4XSCM",
        "colab_type": "code",
        "colab": {
          "base_uri": "https://localhost:8080/",
          "height": 181
        },
        "outputId": "d0cddc34-80e5-4aeb-afac-571cf4aefb80"
      },
      "cell_type": "code",
      "source": [
        "evidence=tf.matmul(XX, W) + b\n",
        "Y = tf.nn.softmax(evidence, name=\"output\")\n",
        "cross_entropy = tf.reduce_mean(tf.nn.softmax_cross_entropy_with_logits(labels=Y_,logits=Y))\n",
        "correct_prediction = tf.equal(tf.argmax(Y, 1), tf.argmax(Y_, 1))\n",
        "accuracy = tf.reduce_mean(tf.cast(correct_prediction, tf.float32))\n"
      ],
      "execution_count": 7,
      "outputs": [
        {
          "output_type": "stream",
          "text": [
            "WARNING:tensorflow:From <ipython-input-7-dfddcb4ba094>:3: softmax_cross_entropy_with_logits (from tensorflow.python.ops.nn_ops) is deprecated and will be removed in a future version.\n",
            "Instructions for updating:\n",
            "\n",
            "Future major versions of TensorFlow will allow gradients to flow\n",
            "into the labels input on backprop by default.\n",
            "\n",
            "See @{tf.nn.softmax_cross_entropy_with_logits_v2}.\n",
            "\n"
          ],
          "name": "stdout"
        }
      ]
    },
    {
      "metadata": {
        "id": "5H920skjbo7M",
        "colab_type": "code",
        "colab": {}
      },
      "cell_type": "code",
      "source": [
        "train_step = tf.train.GradientDescentOptimizer(0.005).minimize(cross_entropy)\n",
        "tf.summary.scalar(\"cost\", cross_entropy)\n",
        "tf.summary.scalar(\"accuracy\", accuracy)\n",
        "summary_op = tf.summary.merge_all()"
      ],
      "execution_count": 0,
      "outputs": []
    },
    {
      "metadata": {
        "id": "DGXku7I4bxrs",
        "colab_type": "code",
        "colab": {
          "base_uri": "https://localhost:8080/",
          "height": 1097
        },
        "outputId": "29ae3d1b-49ea-423b-e0a5-cc4543f4c2b7"
      },
      "cell_type": "code",
      "source": [
        "with tf.Session() as sess:\n",
        "  sess.run(tf.global_variables_initializer())\n",
        "  writer = tf.summary.FileWriter(logs_path, graph=tf.get_default_graph())\n",
        "\n",
        "  for epoch in range(training_epochs):\n",
        "    batch_count = int(mnist.train.num_examples/batch_size)\n",
        "    for i in range(batch_count):\n",
        "      batch_x, batch_y = mnist.train.next_batch(batch_size)\n",
        "      _, summary = sess.run([train_step, summary_op],\\\n",
        "                            feed_dict={X: batch_x,\\\n",
        "                                       Y_: batch_y})\n",
        "      writer.add_summary(summary, epoch * batch_count + i)\n",
        "    print(\"Epoch: \", epoch)\n",
        "    print(\"Accuracy: \", accuracy.eval(feed_dict={X: mnist.test.images, \\\n",
        "                                                 Y_: mnist.test.labels}))\n",
        "    print(\"done\")\n",
        "\n",
        "    num = randint(0, mnist.test.images.shape[0])\n",
        "    img = mnist.test.images[num]\n",
        "\n",
        "    classification = sess.run(tf.argmax(Y, 1), feed_dict={X: [img]})\n",
        "    print('Neural Network predicted', classification[0])\n",
        "    print('Real label is:', np.argmax(mnist.test.labels[num]))\n",
        "\n",
        "    saver = tf.train.Saver()\n",
        "    save_path = saver.save(sess, \"data/saved_mnist_cnn.ckpt\")\n",
        "    print(\"Model saved to %s\" % save_path)"
      ],
      "execution_count": 10,
      "outputs": [
        {
          "output_type": "stream",
          "text": [
            "('Epoch: ', 0)\n",
            "('Accuracy: ', 0.448)\n",
            "done\n",
            "('Neural Network predicted', 0)\n",
            "('Real label is:', 0)\n",
            "Model saved to data/saved_mnist_cnn.ckpt\n",
            "('Epoch: ', 1)\n",
            "('Accuracy: ', 0.5503)\n",
            "done\n",
            "('Neural Network predicted', 7)\n",
            "('Real label is:', 7)\n",
            "Model saved to data/saved_mnist_cnn.ckpt\n",
            "('Epoch: ', 2)\n",
            "('Accuracy: ', 0.5658)\n",
            "done\n",
            "('Neural Network predicted', 2)\n",
            "('Real label is:', 2)\n",
            "Model saved to data/saved_mnist_cnn.ckpt\n",
            "('Epoch: ', 3)\n",
            "('Accuracy: ', 0.616)\n",
            "done\n",
            "('Neural Network predicted', 1)\n",
            "('Real label is:', 1)\n",
            "Model saved to data/saved_mnist_cnn.ckpt\n",
            "('Epoch: ', 4)\n",
            "('Accuracy: ', 0.6646)\n",
            "done\n",
            "('Neural Network predicted', 1)\n",
            "('Real label is:', 8)\n",
            "Model saved to data/saved_mnist_cnn.ckpt\n",
            "('Epoch: ', 5)\n",
            "('Accuracy: ', 0.7054)\n",
            "done\n",
            "('Neural Network predicted', 4)\n",
            "('Real label is:', 9)\n",
            "Model saved to data/saved_mnist_cnn.ckpt\n",
            "('Epoch: ', 6)\n",
            "('Accuracy: ', 0.7387)\n",
            "done\n",
            "('Neural Network predicted', 1)\n",
            "('Real label is:', 1)\n",
            "Model saved to data/saved_mnist_cnn.ckpt\n",
            "('Epoch: ', 7)\n",
            "('Accuracy: ', 0.77)\n",
            "done\n",
            "('Neural Network predicted', 7)\n",
            "('Real label is:', 9)\n",
            "Model saved to data/saved_mnist_cnn.ckpt\n",
            "('Epoch: ', 8)\n",
            "('Accuracy: ', 0.7847)\n",
            "done\n",
            "('Neural Network predicted', 1)\n",
            "('Real label is:', 1)\n",
            "Model saved to data/saved_mnist_cnn.ckpt\n",
            "('Epoch: ', 9)\n",
            "('Accuracy: ', 0.7902)\n",
            "done\n",
            "('Neural Network predicted', 4)\n",
            "('Real label is:', 4)\n",
            "Model saved to data/saved_mnist_cnn.ckpt\n"
          ],
          "name": "stdout"
        }
      ]
    },
    {
      "metadata": {
        "id": "damt0yJ3cgBr",
        "colab_type": "code",
        "colab": {}
      },
      "cell_type": "code",
      "source": [
        ""
      ],
      "execution_count": 0,
      "outputs": []
    }
  ]
}