{
  "nbformat": 4,
  "nbformat_minor": 0,
  "metadata": {
    "colab": {
      "name": "안녕하세요, Colaboratory입니다",
      "version": "0.3.2",
      "provenance": [],
      "collapsed_sections": [],
      "include_colab_link": true
    },
    "kernelspec": {
      "display_name": "Python 3",
      "name": "python3"
    }
  },
  "cells": [
    {
      "cell_type": "markdown",
      "metadata": {
        "id": "view-in-github",
        "colab_type": "text"
      },
      "source": [
        "[View in Colaboratory](https://colab.research.google.com/github/sabumjung/Tensorflow/blob/master/03_02_TF_RL_Q-Net+Learning.ipynb)"
      ]
    },
    {
      "metadata": {
        "id": "6fGj9sr8iCYw",
        "colab_type": "code",
        "colab": {}
      },
      "cell_type": "code",
      "source": [
        "#강화학습에 필요한 라이브러리를 불러온다.\n",
        "import gym\n",
        "import numpy as np\n",
        "import random\n",
        "import tensorflow as tf\n",
        "import matplotlib.pyplot as plt\n",
        "%matplotlib inline"
      ],
      "execution_count": 0,
      "outputs": []
    },
    {
      "metadata": {
        "id": "7jCAqgsxiDLS",
        "colab_type": "code",
        "colab": {}
      },
      "cell_type": "code",
      "source": [
        "env = gym.make('FrozenLake-v0')"
      ],
      "execution_count": 0,
      "outputs": []
    },
    {
      "metadata": {
        "id": "vVrAFuGaiE6O",
        "colab_type": "code",
        "colab": {}
      },
      "cell_type": "code",
      "source": [
        "# 텐서플로 내의 그래프를 초기화해준다.\n",
        "# 초기화를 하지 않으면 동일 이름이 있는 경우에 에러가 나게 됨.\n",
        "tf.reset_default_graph()"
      ],
      "execution_count": 0,
      "outputs": []
    },
    {
      "metadata": {
        "id": "3pfyRjO8iIee",
        "colab_type": "code",
        "colab": {}
      },
      "cell_type": "code",
      "source": [
        "# 텐서플로의 구조를 모델링한다.\n",
        "\n",
        "# 액션을 선택하기 위해 사용되는 신경망의 feed forward 부분을 구현하는 내용\n",
        "# 입력값은 1x16 의 벡터로 들어온다\n",
        "inputs1 = tf.placeholder(shape=[1,16],dtype=tf.float32)\n",
        "\n",
        "# 가중치는 16x4로 초기화되어 input * w의 결과가 4개 나온다\n",
        "W = tf.Variable(tf.random_uniform([16,4],0,0.01))\n",
        "\n",
        "# 행렬곱을 통해 1x16 * 16x4 로 1x4의 결과를 내어줌\n",
        "Qout = tf.matmul(inputs1,W)\n",
        "\n",
        "# 가장 예측값이 큰 인덱스를 찾기 위해서?\n",
        "# argmax는 가장 큰 값일 때의 인덱스를 찾는데 사용하는 함수이다.\n",
        "predict = tf.argmax(Qout,1)\n",
        "\n",
        "# 예측된 Q값과 타겟 사이의 차이의 제곱합을 손실로 얻는 과정\n",
        "# nextQ는 나중에 env.step으로 위에서 선택된 action을 실행하고 난 이후의 상태(다음 상태 s')를 넣었을 때 Q 값들이다.\n",
        "nextQ = tf.placeholder(shape=[1,4],dtype=tf.float32)\n",
        "\n",
        "# 손실은 다음 Q와 현재 예측 Q의 차이의 제곱합\n",
        "loss = tf.reduce_sum(tf.square(nextQ - Qout))\n",
        "\n",
        "# SGD로 학습한다. 학습률은 0.1\n",
        "trainer = tf.train.GradientDescentOptimizer(learning_rate=0.1)\n",
        "\n",
        "# SGD로 손실을 최소로 만드는 W를 찾아간다.\n",
        "updateModel = trainer.minimize(loss)"
      ],
      "execution_count": 0,
      "outputs": []
    },
    {
      "metadata": {
        "id": "uelf_pIriK5y",
        "colab_type": "code",
        "colab": {
          "base_uri": "https://localhost:8080/",
          "height": 34
        },
        "outputId": "fa1130ed-b2b6-473b-b642-823c40911c75"
      },
      "cell_type": "code",
      "source": [
        "# 텐서플로는 모든 것이 연산자로 구현이 되어 있어서, valiable 초기화를 해주기 전까지는 아무 값이 할당되어 있지 않다.\n",
        "init = tf.global_variables_initializer()\n",
        "\n",
        "# 학습 파라미터 설정\n",
        "y = .99 # 할인율\n",
        "e = 0.1 # e-greedy 로 e의 확률로 랜덤한 행동(action)을 하게 함\n",
        "num_episodes = 2000 # 에피소드 수\n",
        "\n",
        "# 에피소드당 걸음과 총 보상을 저장하기 위한 리스트\n",
        "jList = []\n",
        "rList = []\n",
        "\n",
        "# 텐서플로를 켜는 Session\n",
        "with tf.Session() as sess:\n",
        "    # 초기화하지 않으면 모든 변수에는 아무 값이 없어서 초기화를 해주는 연산을 실행\n",
        "    sess.run(init)\n",
        "    \n",
        "    # 에피소드마다 반복하기\n",
        "    for i in range(num_episodes):\n",
        "        # 첫번째 상태를 초기화해주고 보상, 걸음도 초기화\n",
        "        s = env.reset()\n",
        "        rAll = 0\n",
        "        d = False\n",
        "        j = 0\n",
        "        \n",
        "        # The Q-Network\n",
        "        while j < 99:\n",
        "            j+=1\n",
        "            # Q-network로 부터 나온 q 값에 의해 행동을 선택함(다만 e의 확률로 랜덤한 행동)\n",
        "            # a, allQ 에는 현재 상태를 바탕으로 한 Q 값들이 나오고 가장 큰 인덱스가 a에 들어있음\n",
        "            a,allQ = sess.run([predict,Qout],feed_dict={inputs1:np.identity(16)[s:s+1]})\n",
        "            if np.random.rand(1) < e:\n",
        "                a[0] = env.action_space.sample()\n",
        "            \n",
        "            # 환경으로부터 새로운 상태와 보상을 얻음\n",
        "            s1,r,d,_ = env.step(a[0])\n",
        "            \n",
        "            # 새로운 상태를 우리 신경망에 넣어서 Q' 값을 얻음 (1x4) (여기의 max 값이 Q value 에 더해져 target이 됨)\n",
        "            Q1 = sess.run(Qout,feed_dict={inputs1:np.identity(16)[s1:s1+1]})\n",
        "            # 선택된 액션에 대한 타겟값과 maxq' 를 얻음\n",
        "            maxQ1 = np.max(Q1)\n",
        "            # target이 될 Q table을 업데이트 해줌\n",
        "            targetQ = allQ\n",
        "            targetQ[0,a[0]] = r + y*maxQ1\n",
        "            \n",
        "            # 예측된 Q 값과 target Q 값을 이용해 신경망을 학습함\n",
        "            _,W1 = sess.run([updateModel,W],feed_dict={inputs1:np.identity(16)[s:s+1],nextQ:targetQ})\n",
        "            # 총 보상을 더해줌\n",
        "            rAll += r\n",
        "            # 상태를 변경해줌\n",
        "            s = s1\n",
        "            # 끝에 도달하면 끝냄\n",
        "            if d == True:\n",
        "                # 랜덤하게 행동할 확률을 점점 낮춰줌\n",
        "                e = 1./((i/50) + 10)\n",
        "                break\n",
        "        # 몇걸음만에 끝났는지 기록\n",
        "        jList.append(j)\n",
        "        # 에피소드의 총 보상을 기록\n",
        "        rList.append(rAll)\n",
        "# 평균적인 보상이 얼마인지 나타냄\n",
        "print (\"Percent of succesful episodes: \" + str(sum(rList)/num_episodes) + \"%\")\n"
      ],
      "execution_count": 13,
      "outputs": [
        {
          "output_type": "stream",
          "text": [
            "Percent of succesful episodes: 0.381%\n"
          ],
          "name": "stdout"
        }
      ]
    },
    {
      "metadata": {
        "id": "HH5x1fSUiOGZ",
        "colab_type": "code",
        "colab": {
          "base_uri": "https://localhost:8080/",
          "height": 282
        },
        "outputId": "1cf27319-b1b9-4f96-c9d4-cc94022eb2b4"
      },
      "cell_type": "code",
      "source": [
        "# 그래프 그래기\n",
        "plt.plot(rList)"
      ],
      "execution_count": 14,
      "outputs": [
        {
          "output_type": "execute_result",
          "data": {
            "text/plain": [
              "[<matplotlib.lines.Line2D at 0x7f55a1e815c0>]"
            ]
          },
          "metadata": {
            "tags": []
          },
          "execution_count": 14
        },
        {
          "output_type": "display_data",
          "data": {
            "image/png": "[encoded data removed]",
            "text/plain": [
              "<matplotlib.figure.Figure at 0x7f55a479d8d0>"
            ]
          },
          "metadata": {
            "tags": []
          }
        }
      ]
    },
    {
      "metadata": {
        "id": "aJlKANh4iPwZ",
        "colab_type": "code",
        "colab": {
          "base_uri": "https://localhost:8080/",
          "height": 282
        },
        "outputId": "1ef8c83d-0aea-4c64-c9ac-4f3a6e3e2f89"
      },
      "cell_type": "code",
      "source": [
        "#그래프 그리기\n",
        "plt.plot(jList)"
      ],
      "execution_count": 15,
      "outputs": [
        {
          "output_type": "execute_result",
          "data": {
            "text/plain": [
              "[<matplotlib.lines.Line2D at 0x7f559fe16ba8>]"
            ]
          },
          "metadata": {
            "tags": []
          },
          "execution_count": 15
        },
        {
          "output_type": "display_data",
          "data": {
            "image/png": "[encoded data removed]",
            "text/plain": [
              "<matplotlib.figure.Figure at 0x7f55a1e55f60>"
            ]
          },
          "metadata": {
            "tags": []
          }
        }
      ]
    },
    {
      "metadata": {
        "id": "yTBJ0BkwiUtl",
        "colab_type": "code",
        "colab": {}
      },
      "cell_type": "code",
      "source": [
        ""
      ],
      "execution_count": 0,
      "outputs": []
    }
  ]
}