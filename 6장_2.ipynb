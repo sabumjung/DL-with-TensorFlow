{
  "nbformat": 4,
  "nbformat_minor": 0,
  "metadata": {
    "colab": {
      "name": "6장_2.ipynb",
      "version": "0.3.2",
      "provenance": [],
      "include_colab_link": true
    },
    "kernelspec": {
      "name": "python2",
      "display_name": "Python 2"
    }
  },
  "cells": [
    {
      "cell_type": "markdown",
      "metadata": {
        "id": "view-in-github",
        "colab_type": "text"
      },
      "source": [
        "[View in Colaboratory](https://colab.research.google.com/github/sabumjung/DL-with-TensorFlow/blob/DL-with-TensorFlow/6%EC%9E%A5_2.ipynb)"
      ]
    },
    {
      "metadata": {
        "id": "mHbsueXp3Jv4",
        "colab_type": "code",
        "colab": {}
      },
      "cell_type": "code",
      "source": [
        "import tensorflow as tf\n",
        "from tensorflow.contrib import rnn"
      ],
      "execution_count": 0,
      "outputs": []
    },
    {
      "metadata": {
        "id": "nGiNPlC-371g",
        "colab_type": "code",
        "colab": {
          "base_uri": "https://localhost:8080/",
          "height": 89
        },
        "outputId": "66b61e86-5a96-4380-bbf7-c886947b5255"
      },
      "cell_type": "code",
      "source": [
        "from tensorflow.examples.tutorials.mnist import input_data\n",
        "mnist = input_data.read_data_sets(\"/tmp/data/\", one_hot=True)"
      ],
      "execution_count": 4,
      "outputs": [
        {
          "output_type": "stream",
          "text": [
            "Extracting /tmp/data/train-images-idx3-ubyte.gz\n",
            "Extracting /tmp/data/train-labels-idx1-ubyte.gz\n",
            "Extracting /tmp/data/t10k-images-idx3-ubyte.gz\n",
            "Extracting /tmp/data/t10k-labels-idx1-ubyte.gz\n"
          ],
          "name": "stdout"
        }
      ]
    },
    {
      "metadata": {
        "id": "rlLeuDE94Cmi",
        "colab_type": "code",
        "colab": {}
      },
      "cell_type": "code",
      "source": [
        "# 학습 parameter 설정\n",
        "learning_rate = 0.001\n",
        "training_iters = 100000\n",
        "batch_size = 128\n",
        "display_step = 10"
      ],
      "execution_count": 0,
      "outputs": []
    },
    {
      "metadata": {
        "id": "kiTkYDvw4HeC",
        "colab_type": "code",
        "colab": {}
      },
      "cell_type": "code",
      "source": [
        "# 신경망 구조 parameter 설정\n",
        "n_input = 28 \n",
        "n_steps = 28 \n",
        "n_hidden = 128 \n",
        "n_classes = 10 "
      ],
      "execution_count": 0,
      "outputs": []
    },
    {
      "metadata": {
        "id": "5V7B2VtK4JXx",
        "colab_type": "code",
        "colab": {}
      },
      "cell_type": "code",
      "source": [
        "x = tf.placeholder(\"float\", [None, n_steps, n_input])\n",
        "y = tf.placeholder(\"float\", [None, n_classes])"
      ],
      "execution_count": 0,
      "outputs": []
    },
    {
      "metadata": {
        "id": "tDOfmtbh4V2i",
        "colab_type": "code",
        "colab": {}
      },
      "cell_type": "code",
      "source": [
        "# 가중치와 바이어스 설정\n",
        "weights = {\n",
        "    'out': tf.Variable(tf.random_normal([2*n_hidden, n_classes]))\n",
        "}\n",
        "biases = {\n",
        "    'out': tf.Variable(tf.random_normal([n_classes]))\n",
        "}"
      ],
      "execution_count": 0,
      "outputs": []
    },
    {
      "metadata": {
        "id": "TCvV7upj4ZVb",
        "colab_type": "code",
        "colab": {}
      },
      "cell_type": "code",
      "source": [
        "# BiRNN 정의\n",
        "def BiRNN(x, weights, biases):\n",
        "    x = tf.transpose(x, [1, 0, 2])\n",
        "    x = tf.reshape(x, [-1, n_input])\n",
        "    x = tf.split(axis=0, num_or_size_splits=n_steps, value=x)\n",
        "    lstm_fw_cell = rnn.BasicLSTMCell(n_hidden, forget_bias=1.0)\n",
        "    lstm_bw_cell = rnn.BasicLSTMCell(n_hidden, forget_bias=1.0)\n",
        "    try:\n",
        "        outputs, _, _ = rnn.static_bidirectional_rnn(lstm_fw_cell, lstm_bw_cell, x,\n",
        "                                              dtype=tf.float32)\n",
        "    except Exception: # Old TensorFlow version only returns outputs not states\n",
        "        outputs = rnn.static_bidirectional_rnn(lstm_fw_cell, lstm_bw_cell, x,\n",
        "                                        dtype=tf.float32)\n",
        "    return tf.matmul(outputs[-1], weights['out']) + biases['out']\n"
      ],
      "execution_count": 0,
      "outputs": []
    },
    {
      "metadata": {
        "id": "k6w-XPQi4dla",
        "colab_type": "code",
        "colab": {
          "base_uri": "https://localhost:8080/",
          "height": 181
        },
        "outputId": "646e42b9-1cdf-4626-9531-272f765878aa"
      },
      "cell_type": "code",
      "source": [
        "# 예측값, 손실함수, 최적화방법, 정확도 설정\n",
        "pred = BiRNN(x, weights, biases)\n",
        "cost = tf.reduce_mean(tf.nn.softmax_cross_entropy_with_logits(logits=pred, labels=y))\n",
        "optimizer = tf.train.AdamOptimizer(learning_rate=learning_rate).minimize(cost)\n",
        "correct_pred = tf.equal(tf.argmax(pred,1), tf.argmax(y,1))\n",
        "accuracy = tf.reduce_mean(tf.cast(correct_pred, tf.float32))\n",
        "\n",
        "# 변수초기화\n",
        "init = tf.global_variables_initializer()"
      ],
      "execution_count": 12,
      "outputs": [
        {
          "output_type": "stream",
          "text": [
            "WARNING:tensorflow:From <ipython-input-12-10a6a939ec5a>:2: softmax_cross_entropy_with_logits (from tensorflow.python.ops.nn_ops) is deprecated and will be removed in a future version.\n",
            "Instructions for updating:\n",
            "\n",
            "Future major versions of TensorFlow will allow gradients to flow\n",
            "into the labels input on backprop by default.\n",
            "\n",
            "See @{tf.nn.softmax_cross_entropy_with_logits_v2}.\n",
            "\n"
          ],
          "name": "stdout"
        }
      ]
    },
    {
      "metadata": {
        "id": "IgsJj9S54mfh",
        "colab_type": "code",
        "colab": {
          "base_uri": "https://localhost:8080/",
          "height": 1457
        },
        "outputId": "daeeb3d5-b175-4298-ba82-bc1374231456"
      },
      "cell_type": "code",
      "source": [
        "with tf.Session() as sess:\n",
        "    #변수초기화\n",
        "    sess.run(init)\n",
        "\n",
        "    step = 1\n",
        "    while step * batch_size < training_iters:\n",
        "        batch_x, batch_y = mnist.train.next_batch(batch_size)\n",
        "        batch_x = batch_x.reshape((batch_size, n_steps, n_input))\n",
        "        sess.run(optimizer, feed_dict={x: batch_x, y: batch_y})\n",
        "        if step % display_step == 0:\n",
        "            acc = sess.run(accuracy, feed_dict={x: batch_x, y: batch_y})\n",
        "            loss = sess.run(cost, feed_dict={x: batch_x, y: batch_y})\n",
        "            print(\"Iter \" + str(step*batch_size) + \", Minibatch Loss= \" + \\\n",
        "                  \"{:.6f}\".format(loss) + \", Training Accuracy= \" + \\\n",
        "                  \"{:.5f}\".format(acc))\n",
        "        step += 1\n",
        "    print(\"Optimization Finished!\")\n",
        "\n",
        "    test_len = 128\n",
        "    test_data = mnist.test.images[:test_len].reshape((-1, n_steps, n_input))\n",
        "    test_label = mnist.test.labels[:test_len]\n",
        "    print(\"Testing Accuracy:\", \\\n",
        "sess.run(accuracy, feed_dict={x: test_data, y: test_label}))"
      ],
      "execution_count": 13,
      "outputs": [
        {
          "output_type": "stream",
          "text": [
            "Iter 1280, Minibatch Loss= 1.733079, Training Accuracy= 0.38281\n",
            "Iter 2560, Minibatch Loss= 1.555445, Training Accuracy= 0.51562\n",
            "Iter 3840, Minibatch Loss= 1.079433, Training Accuracy= 0.64062\n",
            "Iter 5120, Minibatch Loss= 1.080586, Training Accuracy= 0.60938\n",
            "Iter 6400, Minibatch Loss= 1.092670, Training Accuracy= 0.68750\n",
            "Iter 7680, Minibatch Loss= 0.843056, Training Accuracy= 0.74219\n",
            "Iter 8960, Minibatch Loss= 0.781613, Training Accuracy= 0.68750\n",
            "Iter 10240, Minibatch Loss= 0.541593, Training Accuracy= 0.82812\n",
            "Iter 11520, Minibatch Loss= 0.499123, Training Accuracy= 0.85938\n",
            "Iter 12800, Minibatch Loss= 0.540303, Training Accuracy= 0.84375\n",
            "Iter 14080, Minibatch Loss= 0.508879, Training Accuracy= 0.78125\n",
            "Iter 15360, Minibatch Loss= 0.575614, Training Accuracy= 0.78906\n",
            "Iter 16640, Minibatch Loss= 0.303358, Training Accuracy= 0.89062\n",
            "Iter 17920, Minibatch Loss= 0.222635, Training Accuracy= 0.92969\n",
            "Iter 19200, Minibatch Loss= 0.392329, Training Accuracy= 0.89844\n",
            "Iter 20480, Minibatch Loss= 0.305186, Training Accuracy= 0.89844\n",
            "Iter 21760, Minibatch Loss= 0.385653, Training Accuracy= 0.89062\n",
            "Iter 23040, Minibatch Loss= 0.240171, Training Accuracy= 0.92969\n",
            "Iter 24320, Minibatch Loss= 0.367700, Training Accuracy= 0.89844\n",
            "Iter 25600, Minibatch Loss= 0.308459, Training Accuracy= 0.87500\n",
            "Iter 26880, Minibatch Loss= 0.229939, Training Accuracy= 0.92188\n",
            "Iter 28160, Minibatch Loss= 0.311321, Training Accuracy= 0.88281\n",
            "Iter 29440, Minibatch Loss= 0.245525, Training Accuracy= 0.92969\n",
            "Iter 30720, Minibatch Loss= 0.276662, Training Accuracy= 0.91406\n",
            "Iter 32000, Minibatch Loss= 0.168827, Training Accuracy= 0.95312\n",
            "Iter 33280, Minibatch Loss= 0.120002, Training Accuracy= 0.96875\n",
            "Iter 34560, Minibatch Loss= 0.269466, Training Accuracy= 0.91406\n",
            "Iter 35840, Minibatch Loss= 0.192572, Training Accuracy= 0.94531\n",
            "Iter 37120, Minibatch Loss= 0.202191, Training Accuracy= 0.92188\n",
            "Iter 38400, Minibatch Loss= 0.130270, Training Accuracy= 0.96094\n",
            "Iter 39680, Minibatch Loss= 0.188722, Training Accuracy= 0.95312\n",
            "Iter 40960, Minibatch Loss= 0.146351, Training Accuracy= 0.95312\n",
            "Iter 42240, Minibatch Loss= 0.166202, Training Accuracy= 0.93750\n",
            "Iter 43520, Minibatch Loss= 0.079253, Training Accuracy= 0.98438\n",
            "Iter 44800, Minibatch Loss= 0.280041, Training Accuracy= 0.96094\n",
            "Iter 46080, Minibatch Loss= 0.158445, Training Accuracy= 0.94531\n",
            "Iter 47360, Minibatch Loss= 0.311679, Training Accuracy= 0.90625\n",
            "Iter 48640, Minibatch Loss= 0.118765, Training Accuracy= 0.97656\n",
            "Iter 49920, Minibatch Loss= 0.197023, Training Accuracy= 0.92969\n",
            "Iter 51200, Minibatch Loss= 0.185859, Training Accuracy= 0.92969\n",
            "Iter 52480, Minibatch Loss= 0.107702, Training Accuracy= 0.96875\n",
            "Iter 53760, Minibatch Loss= 0.112314, Training Accuracy= 0.97656\n",
            "Iter 55040, Minibatch Loss= 0.087334, Training Accuracy= 0.96875\n",
            "Iter 56320, Minibatch Loss= 0.195583, Training Accuracy= 0.92969\n",
            "Iter 57600, Minibatch Loss= 0.132659, Training Accuracy= 0.94531\n",
            "Iter 58880, Minibatch Loss= 0.134659, Training Accuracy= 0.96875\n",
            "Iter 60160, Minibatch Loss= 0.151685, Training Accuracy= 0.94531\n",
            "Iter 61440, Minibatch Loss= 0.083743, Training Accuracy= 0.96875\n",
            "Iter 62720, Minibatch Loss= 0.102561, Training Accuracy= 0.96875\n",
            "Iter 64000, Minibatch Loss= 0.185504, Training Accuracy= 0.96094\n",
            "Iter 65280, Minibatch Loss= 0.186093, Training Accuracy= 0.96094\n",
            "Iter 66560, Minibatch Loss= 0.073934, Training Accuracy= 0.96875\n",
            "Iter 67840, Minibatch Loss= 0.099046, Training Accuracy= 0.97656\n",
            "Iter 69120, Minibatch Loss= 0.146858, Training Accuracy= 0.95312\n",
            "Iter 70400, Minibatch Loss= 0.224842, Training Accuracy= 0.96094\n",
            "Iter 71680, Minibatch Loss= 0.056410, Training Accuracy= 0.97656\n",
            "Iter 72960, Minibatch Loss= 0.081881, Training Accuracy= 0.97656\n",
            "Iter 74240, Minibatch Loss= 0.075076, Training Accuracy= 0.97656\n",
            "Iter 75520, Minibatch Loss= 0.136696, Training Accuracy= 0.94531\n",
            "Iter 76800, Minibatch Loss= 0.129896, Training Accuracy= 0.95312\n",
            "Iter 78080, Minibatch Loss= 0.060334, Training Accuracy= 0.99219\n",
            "Iter 79360, Minibatch Loss= 0.071395, Training Accuracy= 0.97656\n",
            "Iter 80640, Minibatch Loss= 0.073128, Training Accuracy= 0.96875\n",
            "Iter 81920, Minibatch Loss= 0.202475, Training Accuracy= 0.92969\n",
            "Iter 83200, Minibatch Loss= 0.065382, Training Accuracy= 0.99219\n",
            "Iter 84480, Minibatch Loss= 0.148870, Training Accuracy= 0.96094\n",
            "Iter 85760, Minibatch Loss= 0.109001, Training Accuracy= 0.96875\n",
            "Iter 87040, Minibatch Loss= 0.046502, Training Accuracy= 0.98438\n",
            "Iter 88320, Minibatch Loss= 0.137060, Training Accuracy= 0.96875\n",
            "Iter 89600, Minibatch Loss= 0.066127, Training Accuracy= 0.97656\n",
            "Iter 90880, Minibatch Loss= 0.037138, Training Accuracy= 0.99219\n",
            "Iter 92160, Minibatch Loss= 0.149038, Training Accuracy= 0.96094\n",
            "Iter 93440, Minibatch Loss= 0.212775, Training Accuracy= 0.93750\n",
            "Iter 94720, Minibatch Loss= 0.066539, Training Accuracy= 0.98438\n",
            "Iter 96000, Minibatch Loss= 0.091828, Training Accuracy= 0.96875\n",
            "Iter 97280, Minibatch Loss= 0.094147, Training Accuracy= 0.97656\n",
            "Iter 98560, Minibatch Loss= 0.071358, Training Accuracy= 0.97656\n",
            "Iter 99840, Minibatch Loss= 0.089167, Training Accuracy= 0.97656\n",
            "Optimization Finished!\n",
            "('Testing Accuracy:', 0.9765625)\n"
          ],
          "name": "stdout"
        }
      ]
    },
    {
      "metadata": {
        "id": "kUKoYFgX4x26",
        "colab_type": "code",
        "colab": {}
      },
      "cell_type": "code",
      "source": [
        ""
      ],
      "execution_count": 0,
      "outputs": []
    }
  ]
}