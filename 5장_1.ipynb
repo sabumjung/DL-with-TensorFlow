{
  "nbformat": 4,
  "nbformat_minor": 0,
  "metadata": {
    "colab": {
      "name": "5장_1.ipynb",
      "version": "0.3.2",
      "provenance": [],
      "include_colab_link": true
    },
    "kernelspec": {
      "name": "python2",
      "display_name": "Python 2"
    },
    "accelerator": "GPU"
  },
  "cells": [
    {
      "cell_type": "markdown",
      "metadata": {
        "id": "view-in-github",
        "colab_type": "text"
      },
      "source": [
        "[View in Colaboratory](https://colab.research.google.com/github/sabumjung/DL-with-TensorFlow/blob/DL-with-TensorFlow/5%EC%9E%A5_1.ipynb)"
      ]
    },
    {
      "metadata": {
        "id": "j2NQmrAMET8a",
        "colab_type": "code",
        "colab": {}
      },
      "cell_type": "code",
      "source": [
        "#오토인코더에 대한 소스코드\n",
        "import tensorflow as tf\n",
        "import numpy as np\n",
        "import matplotlib.pyplot as plt"
      ],
      "execution_count": 0,
      "outputs": []
    },
    {
      "metadata": {
        "id": "7CJN2wmWGpG8",
        "colab_type": "code",
        "colab": {
          "base_uri": "https://localhost:8080/",
          "height": 89
        },
        "outputId": "2cb5d881-96e6-40d8-ceb8-d3352176e631"
      },
      "cell_type": "code",
      "source": [
        "# MNIST 데이터 임포트\n",
        "from tensorflow.examples.tutorials.mnist import input_data\n",
        "mnist = input_data.read_data_sets(\"MNIST_data/\", one_hot=True)"
      ],
      "execution_count": 14,
      "outputs": [
        {
          "output_type": "stream",
          "text": [
            "Extracting MNIST_data/train-images-idx3-ubyte.gz\n",
            "Extracting MNIST_data/train-labels-idx1-ubyte.gz\n",
            "Extracting MNIST_data/t10k-images-idx3-ubyte.gz\n",
            "Extracting MNIST_data/t10k-labels-idx1-ubyte.gz\n"
          ],
          "name": "stdout"
        }
      ]
    },
    {
      "metadata": {
        "id": "Bqn0Kgf8HArV",
        "colab_type": "code",
        "colab": {}
      },
      "cell_type": "code",
      "source": [
        "# 신경망 훈련 파라미터 설정\n",
        "learning_rate = 0.01\n",
        "training_epochs = 10\n",
        "batch_size = 256\n",
        "display_step = 1\n",
        "examples_to_show = 4\n",
        "\n",
        "# 신경망 파라미터\n",
        "n_hidden_1 = 256 # 1번째 계층 feature 차원\n",
        "n_hidden_2 = 128 # 2번째 계층 feature 차원\n",
        "n_input = 784 # MNIST 데이터 입력 차원(img shape: 28*28)\n",
        "\n",
        "# tf 그래프 입력 (그림만 입력)\n",
        "X = tf.placeholder(\"float\", [None, n_input])\n",
        "\n",
        "# 가중치\n",
        "weights = {\n",
        "    'encoder_h1': tf.Variable\\\n",
        "    (tf.random_normal([n_input, n_hidden_1])),\n",
        "    'encoder_h2': tf.Variable\\\n",
        "    (tf.random_normal([n_hidden_1, n_hidden_2])),\n",
        "    'decoder_h1': tf.Variable\\\n",
        "    (tf.random_normal([n_hidden_2, n_hidden_1])),\n",
        "    'decoder_h2': tf.Variable\\\n",
        "    (tf.random_normal([n_hidden_1, n_input])),\n",
        "}\n",
        "\n",
        "# 바이어스\n",
        "biases = {\n",
        "    'encoder_b1': tf.Variable\\\n",
        "    (tf.random_normal([n_hidden_1])),\n",
        "    'encoder_b2': tf.Variable\\\n",
        "    (tf.random_normal([n_hidden_2])),\n",
        "    'decoder_b1': tf.Variable\\\n",
        "    (tf.random_normal([n_hidden_1])),\n",
        "    'decoder_b2': tf.Variable\\\n",
        "    (tf.random_normal([n_input])),\n",
        "}"
      ],
      "execution_count": 0,
      "outputs": []
    },
    {
      "metadata": {
        "id": "UHXLt-WxHHeV",
        "colab_type": "code",
        "colab": {}
      },
      "cell_type": "code",
      "source": [
        "# 인코더 은닉층 : 시그모이드 활성화 함수 #1\n",
        "encoder_in = tf.nn.sigmoid(tf.add\\\n",
        "                           (tf.matmul(X, \\\n",
        "                                      weights['encoder_h1']),\\\n",
        "                            biases['encoder_b1']))\n",
        "\n",
        "# 인코더 은닉층 : 시그모이드 활성화 함수 #2\n",
        "encoder_out = tf.nn.sigmoid(tf.add\\\n",
        "                            (tf.matmul(encoder_in,\\\n",
        "                                       weights['encoder_h2']),\\\n",
        "                             biases['encoder_b2']))\n",
        "\n",
        "\n",
        "# 디코더 은닉층 : 시그모이드 활성화 함수 #1\n",
        "decoder_in = tf.nn.sigmoid(tf.add\\\n",
        "                           (tf.matmul(encoder_out,\\\n",
        "                                      weights['decoder_h1']),\\\n",
        "                            biases['decoder_b1']))\n",
        "\n",
        "# 디코더 은닉층 : 시그모이드 활성화 함수 #2\n",
        "decoder_out = tf.nn.sigmoid(tf.add\\\n",
        "                            (tf.matmul(decoder_in,\\\n",
        "                                       weights['decoder_h2']),\\\n",
        "                             biases['decoder_b2']))\n",
        "\n",
        "\n",
        "# 예측값 저장변수\n",
        "y_pred = decoder_out\n",
        "# 목표값(레이블)을 입력값으로 설정\n",
        "y_true = X\n",
        "\n",
        "# 손실함수 설정\n",
        "cost = tf.reduce_mean(tf.pow(y_true - y_pred, 2))\n",
        "# 최적화 방법 설정(RMSProp)\n",
        "optimizer = tf.train.RMSPropOptimizer(learning_rate).minimize(cost)\n",
        "\n",
        "# 변수 초기화\n",
        "init = tf.global_variables_initializer()"
      ],
      "execution_count": 0,
      "outputs": []
    },
    {
      "metadata": {
        "id": "g-D5zM4NHKLc",
        "colab_type": "code",
        "colab": {
          "base_uri": "https://localhost:8080/",
          "height": 517
        },
        "outputId": "626ca755-a7db-4d4c-bc38-532d304c5ee8"
      },
      "cell_type": "code",
      "source": [
        "# 그래프 런칭\n",
        "with tf.Session() as sess:\n",
        "    sess.run(init)\n",
        "    total_batch = int(mnist.train.num_examples/batch_size)\n",
        "    # 훈련사이클 실시\n",
        "    for epoch in range(training_epochs):\n",
        "        # 모든 배치에 대해 반복 수행\n",
        "        for i in range(total_batch):\n",
        "            batch_xs, batch_ys =\\\n",
        "                      mnist.train.next_batch(batch_size)\n",
        "            # 최적화 연산(backprop)와 비용연산을 수행하여 손실함수값을 계산함\n",
        "            _, c = sess.run([optimizer, cost],\\\n",
        "                            feed_dict={X: batch_xs})\n",
        "        # 각 에포크별 logs정보 표시\n",
        "        if epoch % display_step == 0:\n",
        "            print(\"Epoch:\", '%04d' % (epoch+1),\n",
        "                  \"cost=\", \"{:.9f}\".format(c))\n",
        "\n",
        "    print(\"Optimization Finished!\")\n",
        "\n",
        "    # 테스트 집합에 대해 인코드와 디코드 적용\n",
        "    encode_decode = sess.run(\n",
        "        y_pred, feed_dict=\\\n",
        "        {X: mnist.test.images[:examples_to_show]})\n",
        "    # 입력이미지와 재구성 이미지 비교\n",
        "    f, a = plt.subplots(2, 4, figsize=(10, 5))\n",
        "    for i in range(examples_to_show):\n",
        "        a[0][i].imshow(np.reshape(mnist.test.images[i], (28, 28)))\n",
        "        a[1][i].imshow(np.reshape(encode_decode[i], (28, 28)))\n",
        "    f.show()\n",
        "    plt.draw()\n",
        "    plt.show()"
      ],
      "execution_count": 17,
      "outputs": [
        {
          "output_type": "stream",
          "text": [
            "('Epoch:', '0001', 'cost=', '0.206359759')\n",
            "('Epoch:', '0002', 'cost=', '0.164151639')\n",
            "('Epoch:', '0003', 'cost=', '0.149210602')\n",
            "('Epoch:', '0004', 'cost=', '0.139710188')\n",
            "('Epoch:', '0005', 'cost=', '0.133729950')\n",
            "('Epoch:', '0006', 'cost=', '0.126430273')\n",
            "('Epoch:', '0007', 'cost=', '0.123854131')\n",
            "('Epoch:', '0008', 'cost=', '0.121055916')\n",
            "('Epoch:', '0009', 'cost=', '0.117206670')\n",
            "('Epoch:', '0010', 'cost=', '0.115130305')\n",
            "Optimization Finished!\n"
          ],
          "name": "stdout"
        },
        {
          "output_type": "display_data",
          "data": {
            "image/png": "[encoded data removed]",
            "text/plain": [
              "<matplotlib.figure.Figure at 0x7f8b46dd4e50>"
            ]
          },
          "metadata": {
            "tags": []
          }
        }
      ]
    },
    {
      "metadata": {
        "id": "oV8IFRVfJrt3",
        "colab_type": "code",
        "colab": {}
      },
      "cell_type": "code",
      "source": [
        ""
      ],
      "execution_count": 0,
      "outputs": []
    }
  ]
}