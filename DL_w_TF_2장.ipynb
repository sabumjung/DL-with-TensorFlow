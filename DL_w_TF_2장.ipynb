{
  "nbformat": 4,
  "nbformat_minor": 0,
  "metadata": {
    "colab": {
      "name": "DL w TF 2장",
      "version": "0.3.2",
      "provenance": [],
      "include_colab_link": true
    },
    "kernelspec": {
      "name": "python3",
      "display_name": "Python 3"
    }
  },
  "cells": [
    {
      "cell_type": "markdown",
      "metadata": {
        "id": "view-in-github",
        "colab_type": "text"
      },
      "source": [
        "[View in Colaboratory](https://colab.research.google.com/github/sabumjung/Tensorflow/blob/master/DL_w_TF_2%EC%9E%A5.ipynb)"
      ]
    },
    {
      "metadata": {
        "id": "lzcZNx6QGdPX",
        "colab_type": "code",
        "colab": {
          "base_uri": "https://localhost:8080/",
          "height": 35
        },
        "outputId": "4de92feb-b314-4924-f23a-16d7acf92b71"
      },
      "cell_type": "code",
      "source": [
        "import tensorflow as tf\n",
        "tf.__version__"
      ],
      "execution_count": 1,
      "outputs": [
        {
          "output_type": "execute_result",
          "data": {
            "text/plain": [
              "'1.11.0-dev20180808'"
            ]
          },
          "metadata": {
            "tags": []
          },
          "execution_count": 1
        }
      ]
    },
    {
      "metadata": {
        "id": "KadjdOhEGglg",
        "colab_type": "code",
        "colab": {
          "base_uri": "https://localhost:8080/",
          "height": 35
        },
        "outputId": "a4a8da30-e928-475f-c80c-00c4b1d5bae6"
      },
      "cell_type": "code",
      "source": [
        "import tensorflow as tf\n",
        "with tf.Session() as session:\n",
        "  x=tf.placeholder(tf.float32,[1],name=\"x\")\n",
        "  y=tf.placeholder(tf.float32,[1],name=\"y\")\n",
        "  z=tf.constant(2.0)\n",
        "  y=x*z\n",
        "  x_in=[1]\n",
        "  y_output=session.run(y,{x:x_in})\n",
        "  print(y_output)"
      ],
      "execution_count": 4,
      "outputs": [
        {
          "output_type": "stream",
          "text": [
            "[2.]\n"
          ],
          "name": "stdout"
        }
      ]
    },
    {
      "metadata": {
        "id": "zznjdsi7G7v_",
        "colab_type": "code",
        "colab": {}
      },
      "cell_type": "code",
      "source": [
        ""
      ],
      "execution_count": 0,
      "outputs": []
    }
  ]
}