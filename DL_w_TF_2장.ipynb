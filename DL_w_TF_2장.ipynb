{
  "nbformat": 4,
  "nbformat_minor": 0,
  "metadata": {
    "colab": {
      "name": "DL w TF 2장",
      "version": "0.3.2",
      "provenance": [],
      "include_colab_link": true
    },
    "kernelspec": {
      "name": "python3",
      "display_name": "Python 3"
    }
  },
  "cells": [
    {
      "cell_type": "markdown",
      "metadata": {
        "id": "view-in-github",
        "colab_type": "text"
      },
      "source": [
        "[View in Colaboratory](https://colab.research.google.com/github/sabumjung/Tensorflow/blob/master/DL_w_TF_2%EC%9E%A5.ipynb)"
      ]
    },
    {
      "metadata": {
        "id": "lzcZNx6QGdPX",
        "colab_type": "code",
        "colab": {
          "base_uri": "https://localhost:8080/",
          "height": 35
        },
        "outputId": "ef2dd7d5-225b-4ac1-c7ff-ef500dccefbf"
      },
      "cell_type": "code",
      "source": [
        "import tensorflow as tf\n",
        "tf.__version__"
      ],
      "execution_count": 2,
      "outputs": [
        {
          "output_type": "execute_result",
          "data": {
            "text/plain": [
              "'1.10.0-rc1'"
            ]
          },
          "metadata": {
            "tags": []
          },
          "execution_count": 2
        }
      ]
    },
    {
      "metadata": {
        "id": "KadjdOhEGglg",
        "colab_type": "code",
        "colab": {
          "base_uri": "https://localhost:8080/",
          "height": 35
        },
        "outputId": "a4a8da30-e928-475f-c80c-00c4b1d5bae6"
      },
      "cell_type": "code",
      "source": [
        "import tensorflow as tf\n",
        "with tf.Session() as session:\n",
        "  x=tf.placeholder(tf.float32,[1],name=\"x\")\n",
        "  y=tf.placeholder(tf.float32,[1],name=\"y\")\n",
        "  z=tf.constant(2.0)\n",
        "  y=x*z\n",
        "  x_in=[1]\n",
        "  y_output=session.run(y,{x:x_in})\n",
        "  print(y_output)"
      ],
      "execution_count": 4,
      "outputs": [
        {
          "output_type": "stream",
          "text": [
            "[2.]\n"
          ],
          "name": "stdout"
        }
      ]
    },
    {
      "metadata": {
        "id": "zznjdsi7G7v_",
        "colab_type": "code",
        "colab": {
          "base_uri": "https://localhost:8080/",
          "height": 89
        },
        "outputId": "55e0e3e0-8b0e-48b5-af64-c40f1cd8d3b0"
      },
      "cell_type": "code",
      "source": [
        "import tensorflow as tf\n",
        "scalar = tf.constant(100)\n",
        "vector = tf.constant([1, 2, 3, 4, 5])\n",
        "matrix = tf.constant([[1, 2, 3], [4, 5, 6]])\n",
        "cube_matrix = tf.constant([[[1], [2], [3]], [[4], [5], [6]], [[7], [8], [9]]])\n",
        "print(scalar.get_shape())\n",
        "print(vector.get_shape())\n",
        "print(matrix.get_shape())\n",
        "print(cube_matrix.get_shape())"
      ],
      "execution_count": 1,
      "outputs": [
        {
          "output_type": "stream",
          "text": [
            "()\n",
            "(5,)\n",
            "(2, 3)\n",
            "(3, 3, 1)\n"
          ],
          "name": "stdout"
        }
      ]
    },
    {
      "metadata": {
        "id": "f04FDBwl7gHx",
        "colab_type": "code",
        "colab": {
          "base_uri": "https://localhost:8080/",
          "height": 53
        },
        "outputId": "6a711556-4565-41ba-ee75-5c4f971fced2"
      },
      "cell_type": "code",
      "source": [
        "import tensorflow as tf\n",
        "import numpy as np\n",
        "\n",
        "tensor_1d = np.array([1, 2, 3, 4, 5, 6, 7, 8, 9, 10])\n",
        "tensor_1d = tf.constant(tensor_1d)\n",
        "with tf.Session() as sess:\n",
        "  print(tensor_1d.get_shape())\n",
        "  print(sess.run(tensor_1d))\n"
      ],
      "execution_count": 8,
      "outputs": [
        {
          "output_type": "stream",
          "text": [
            "(10,)\n",
            "[ 1  2  3  4  5  6  7  8  9 10]\n"
          ],
          "name": "stdout"
        }
      ]
    },
    {
      "metadata": {
        "id": "Hr6jaUrY70A7",
        "colab_type": "code",
        "colab": {
          "base_uri": "https://localhost:8080/",
          "height": 89
        },
        "outputId": "607124b8-1de1-4c16-fa58-92011f90783b"
      },
      "cell_type": "code",
      "source": [
        "import tensorflow as tf\n",
        "import numpy as np\n",
        "\n",
        "tensor_2d = np.array([(1, 2, 3), (4, 5, 6), (7, 8, 9)])\n",
        "tensor_2d = tf.Variable(tensor_2d)\n",
        "with tf.Session() as sess:\n",
        "  sess.run(tf.global_variables_initializer())\n",
        "  print(tensor_2d.get_shape())\n",
        "  print(sess.run(tensor_2d))"
      ],
      "execution_count": 9,
      "outputs": [
        {
          "output_type": "stream",
          "text": [
            "(3, 3)\n",
            "[[1 2 3]\n",
            " [4 5 6]\n",
            " [7 8 9]]\n"
          ],
          "name": "stdout"
        }
      ]
    },
    {
      "metadata": {
        "id": "bbop9RRc8s5c",
        "colab_type": "code",
        "colab": {
          "base_uri": "https://localhost:8080/",
          "height": 35
        },
        "outputId": "204c0a14-6099-4d54-8154-dc126080a67d"
      },
      "cell_type": "code",
      "source": [
        "import tensorflow as tf\n",
        "import numpy as np\n",
        "\n",
        "interactive_session = tf.InteractiveSession()\n",
        "tensor = np.array([1, 2, 3, 4, 5])\n",
        "tensor = tf.constant(tensor)\n",
        "print(tensor.eval())\n",
        "interactive_session.close()"
      ],
      "execution_count": 10,
      "outputs": [
        {
          "output_type": "stream",
          "text": [
            "[1 2 3 4 5]\n"
          ],
          "name": "stdout"
        }
      ]
    },
    {
      "metadata": {
        "id": "wizAuA8e9Dj1",
        "colab_type": "code",
        "colab": {
          "base_uri": "https://localhost:8080/",
          "height": 233
        },
        "outputId": "f112457f-cfa6-49fd-e4ad-fbed37c72717"
      },
      "cell_type": "code",
      "source": [
        "import tensorflow as tf\n",
        "import numpy as np\n",
        "\n",
        "tensor_3d = np.array([[[ 0, 1, 2],[ 3, 4, 5],[ 6, 7, 8]],\n",
        "  [[ 9, 10, 11],[12, 13, 14],[15, 16, 17]],\n",
        "  [[18, 19, 20],[21, 22, 23],[24, 25, 26]]])\n",
        "\n",
        "tensor_3d = tf.convert_to_tensor(tensor_3d, dtype=tf.float64)\n",
        "with tf.Session() as sess:\n",
        "  print(tensor_3d.get_shape())\n",
        "  print(sess.run(tensor_3d))"
      ],
      "execution_count": 11,
      "outputs": [
        {
          "output_type": "stream",
          "text": [
            "(3, 3, 3)\n",
            "[[[ 0.  1.  2.]\n",
            "  [ 3.  4.  5.]\n",
            "  [ 6.  7.  8.]]\n",
            "\n",
            " [[ 9. 10. 11.]\n",
            "  [12. 13. 14.]\n",
            "  [15. 16. 17.]]\n",
            "\n",
            " [[18. 19. 20.]\n",
            "  [21. 22. 23.]\n",
            "  [24. 25. 26.]]]\n"
          ],
          "name": "stdout"
        }
      ]
    },
    {
      "metadata": {
        "id": "XuCS743D9KdG",
        "colab_type": "code",
        "colab": {
          "base_uri": "https://localhost:8080/",
          "height": 215
        },
        "outputId": "62e0d4fc-48a1-40d2-9d37-3b17b1cadeea"
      },
      "cell_type": "code",
      "source": [
        "import tensorflow as tf\n",
        "\n",
        "#변수는 tf.Variable()명령문을 이용한다.\n",
        "#스칼라값 0으로 초기화한 변수 value를 만든다.\n",
        "value = tf.Variable(0, name=\"value\")\n",
        "#상수1을 선언한다.\n",
        "one = tf.constant(1)\n",
        "#add, assign은 계산그래프의 노드일뿐, 세션실행전까지 실제값을 할당하지는 않는다.\n",
        "new_value = tf.add(value, one)\n",
        "update_value = tf.assign(value, new_value)\n",
        "\n",
        "initialize_var = tf.global_variables_initializer()\n",
        "\n",
        "#계산그래프를 초기화한다.\n",
        "with tf.Session() as sess:\n",
        "  sess.run(initialize_var)\n",
        "  print(sess.run(value))\n",
        "  for _ in range(10):\n",
        "    sess.run(update_value)\n",
        "    print(sess.run(value))"
      ],
      "execution_count": 12,
      "outputs": [
        {
          "output_type": "stream",
          "text": [
            "0\n",
            "1\n",
            "2\n",
            "3\n",
            "4\n",
            "5\n",
            "6\n",
            "7\n",
            "8\n",
            "9\n",
            "10\n"
          ],
          "name": "stdout"
        }
      ]
    },
    {
      "metadata": {
        "id": "bIa7iEHq_RdM",
        "colab_type": "code",
        "colab": {
          "base_uri": "https://localhost:8080/",
          "height": 35
        },
        "outputId": "1e40840a-3775-4b62-f997-4b95c26773de"
      },
      "cell_type": "code",
      "source": [
        "#연산결과를 가져오려면 \n",
        "#1) session객체에서 run()함수를 호출\n",
        "#2) 그래프를 실행\n",
        "#3) 해당텐서를 전달\n",
        "\n",
        "#여러개의 텐서를 가져올 수 있음\n",
        "import tensorflow as tf\n",
        "\n",
        "constant_A = tf.constant([100.0])\n",
        "constant_B = tf.constant([300.0])\n",
        "constant_C = tf.constant([3.0])\n",
        "\n",
        "sum_ = tf.add(constant_A, constant_B)\n",
        "mul_ = tf.multiply(constant_A, constant_C)\n",
        "\n",
        "with tf.Session() as sess:\n",
        "  #sum_, mul_텐서를 불러온다.\n",
        "  #텐서값을 생성하는데 필요한 연산은 한번만 실행됨\n",
        "  #텐서별로 한번이 아님(아래 연산은 한번만 실행, 두번이 아님)\n",
        "  result = sess.run([sum_, mul_])\n",
        "  print(result)"
      ],
      "execution_count": 13,
      "outputs": [
        {
          "output_type": "stream",
          "text": [
            "[array([400.], dtype=float32), array([300.], dtype=float32)]\n"
          ],
          "name": "stdout"
        }
      ]
    },
    {
      "metadata": {
        "id": "6jGtNhl3B9jz",
        "colab_type": "code",
        "colab": {
          "base_uri": "https://localhost:8080/",
          "height": 71
        },
        "outputId": "ce1f1118-d5f7-4041-e896-9807794a5c82"
      },
      "cell_type": "code",
      "source": [
        "import tensorflow as tf\n",
        "import numpy as np\n",
        "\n",
        "a = 3\n",
        "b = 2\n",
        "\n",
        "#3행2열로 구성된 x데이터\n",
        "x = tf.placeholder(tf.float32, shape=(a, b))\n",
        "#x+x연산을 수행함\n",
        "y = tf.add(x, 1)\n",
        "\n",
        "data = np.random.rand(a, b)\n",
        "sess = tf.Session()\n",
        "print(sess.run(y,feed_dict={x: data}))"
      ],
      "execution_count": 21,
      "outputs": [
        {
          "output_type": "stream",
          "text": [
            "[[1.7342111 1.2913954]\n",
            " [1.2864573 1.5373712]\n",
            " [1.1651804 1.4495637]]\n"
          ],
          "name": "stdout"
        }
      ]
    },
    {
      "metadata": {
        "id": "_0wFdPEmCStx",
        "colab_type": "code",
        "colab": {}
      },
      "cell_type": "code",
      "source": [
        ""
      ],
      "execution_count": 0,
      "outputs": []
    }
  ]
}